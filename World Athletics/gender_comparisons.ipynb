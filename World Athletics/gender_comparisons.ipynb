{
 "cells": [
  {
   "cell_type": "markdown",
   "id": "30a73092-79db-4458-9515-2120142f4d2c",
   "metadata": {},
   "source": [
    "# Perform comparative EDA between Men and Women Javelin Throwers"
   ]
  },
  {
   "cell_type": "code",
   "execution_count": 1,
   "id": "f34a9174-cfdf-48bd-a694-2e2aa3812f7b",
   "metadata": {},
   "outputs": [],
   "source": [
    "# Data handling\n",
    "import pandas as pd\n",
    "from datetime import datetime\n",
    "import numpy as np\n",
    "\n",
    "# Data analysis\n",
    "import matplotlib.pyplot as plt\n",
    "import scipy.stats as sts\n",
    "from scipy.interpolate import make_interp_spline"
   ]
  },
  {
   "cell_type": "code",
   "execution_count": 2,
   "id": "c4206f8c-39e9-4362-b9e1-972d80c1f76d",
   "metadata": {},
   "outputs": [],
   "source": [
    "# Import pingouin for additional statistical analysis\n",
    "import pingouin as pg\n",
    "from pingouin import pairwise_ttests"
   ]
  },
  {
   "cell_type": "code",
   "execution_count": 3,
   "id": "b624bf4b-bd7b-48ab-b1b6-0f59f0bf171c",
   "metadata": {},
   "outputs": [],
   "source": [
    "# Import dataframe_image to export df as png\n",
    "#!pip install dataframe_image\n",
    "import dataframe_image as dfi"
   ]
  },
  {
   "cell_type": "code",
   "execution_count": 5,
   "id": "5010c63c-7476-475e-9ebc-2e1c47f3e21f",
   "metadata": {},
   "outputs": [],
   "source": [
    "men_data = pd.read_csv('men_df.csv')\n",
    "m_df = pd.DataFrame(men_data)\n",
    "women_data = pd.read_csv('women_df.csv')\n",
    "w_df = pd.DataFrame(women_data)"
   ]
  },
  {
   "cell_type": "code",
   "execution_count": 9,
   "id": "0cf4a067-f749-4119-945c-4008cf1b5681",
   "metadata": {},
   "outputs": [
    {
     "name": "stdout",
     "output_type": "stream",
     "text": [
      "(448, 9)\n"
     ]
    },
    {
     "data": {
      "text/html": [
       "<div>\n",
       "<style scoped>\n",
       "    .dataframe tbody tr th:only-of-type {\n",
       "        vertical-align: middle;\n",
       "    }\n",
       "\n",
       "    .dataframe tbody tr th {\n",
       "        vertical-align: top;\n",
       "    }\n",
       "\n",
       "    .dataframe thead th {\n",
       "        text-align: right;\n",
       "    }\n",
       "</style>\n",
       "<table border=\"1\" class=\"dataframe\">\n",
       "  <thead>\n",
       "    <tr style=\"text-align: right;\">\n",
       "      <th></th>\n",
       "      <th>Place</th>\n",
       "      <th>Competitor</th>\n",
       "      <th>DOB</th>\n",
       "      <th>Nat</th>\n",
       "      <th>Score</th>\n",
       "      <th>Event List</th>\n",
       "      <th>Age</th>\n",
       "      <th>Thrower Class</th>\n",
       "      <th>Gender</th>\n",
       "    </tr>\n",
       "  </thead>\n",
       "  <tbody>\n",
       "    <tr>\n",
       "      <th>0</th>\n",
       "      <td>1</td>\n",
       "      <td>Anderson PETERS</td>\n",
       "      <td>21 OCT 1997</td>\n",
       "      <td>GRN</td>\n",
       "      <td>1461</td>\n",
       "      <td>Javelin Throw</td>\n",
       "      <td>25.0</td>\n",
       "      <td>1st Class</td>\n",
       "      <td>Male</td>\n",
       "    </tr>\n",
       "    <tr>\n",
       "      <th>1</th>\n",
       "      <td>2</td>\n",
       "      <td>Neeraj CHOPRA</td>\n",
       "      <td>24 DEC 1997</td>\n",
       "      <td>IND</td>\n",
       "      <td>1455</td>\n",
       "      <td>Javelin Throw</td>\n",
       "      <td>25.0</td>\n",
       "      <td>1st Class</td>\n",
       "      <td>Male</td>\n",
       "    </tr>\n",
       "    <tr>\n",
       "      <th>2</th>\n",
       "      <td>3</td>\n",
       "      <td>Jakub VADLEJCH</td>\n",
       "      <td>10 OCT 1990</td>\n",
       "      <td>CZE</td>\n",
       "      <td>1428</td>\n",
       "      <td>Javelin Throw</td>\n",
       "      <td>32.0</td>\n",
       "      <td>1st Class</td>\n",
       "      <td>Male</td>\n",
       "    </tr>\n",
       "    <tr>\n",
       "      <th>3</th>\n",
       "      <td>4</td>\n",
       "      <td>Julian WEBER</td>\n",
       "      <td>29 AUG 1994</td>\n",
       "      <td>GER</td>\n",
       "      <td>1385</td>\n",
       "      <td>Javelin Throw</td>\n",
       "      <td>28.0</td>\n",
       "      <td>1st Class</td>\n",
       "      <td>Male</td>\n",
       "    </tr>\n",
       "    <tr>\n",
       "      <th>4</th>\n",
       "      <td>5</td>\n",
       "      <td>Arshad NADEEM</td>\n",
       "      <td>02 JAN 1997</td>\n",
       "      <td>PAK</td>\n",
       "      <td>1306</td>\n",
       "      <td>Javelin Throw</td>\n",
       "      <td>26.0</td>\n",
       "      <td>1st Class</td>\n",
       "      <td>Male</td>\n",
       "    </tr>\n",
       "  </tbody>\n",
       "</table>\n",
       "</div>"
      ],
      "text/plain": [
       "   Place       Competitor          DOB  Nat  Score     Event List   Age  \\\n",
       "0      1  Anderson PETERS  21 OCT 1997  GRN   1461  Javelin Throw  25.0   \n",
       "1      2    Neeraj CHOPRA  24 DEC 1997  IND   1455  Javelin Throw  25.0   \n",
       "2      3   Jakub VADLEJCH  10 OCT 1990  CZE   1428  Javelin Throw  32.0   \n",
       "3      4     Julian WEBER  29 AUG 1994  GER   1385  Javelin Throw  28.0   \n",
       "4      5    Arshad NADEEM  02 JAN 1997  PAK   1306  Javelin Throw  26.0   \n",
       "\n",
       "  Thrower Class Gender  \n",
       "0     1st Class   Male  \n",
       "1     1st Class   Male  \n",
       "2     1st Class   Male  \n",
       "3     1st Class   Male  \n",
       "4     1st Class   Male  "
      ]
     },
     "execution_count": 9,
     "metadata": {},
     "output_type": "execute_result"
    }
   ],
   "source": [
    "print(m_df.shape)\n",
    "m_df.head(5)"
   ]
  },
  {
   "cell_type": "code",
   "execution_count": 8,
   "id": "60ce7d14-7dfd-4c0e-b69c-0c3eb34c7bdd",
   "metadata": {},
   "outputs": [
    {
     "name": "stdout",
     "output_type": "stream",
     "text": [
      "(432, 9)\n"
     ]
    },
    {
     "data": {
      "text/html": [
       "<div>\n",
       "<style scoped>\n",
       "    .dataframe tbody tr th:only-of-type {\n",
       "        vertical-align: middle;\n",
       "    }\n",
       "\n",
       "    .dataframe tbody tr th {\n",
       "        vertical-align: top;\n",
       "    }\n",
       "\n",
       "    .dataframe thead th {\n",
       "        text-align: right;\n",
       "    }\n",
       "</style>\n",
       "<table border=\"1\" class=\"dataframe\">\n",
       "  <thead>\n",
       "    <tr style=\"text-align: right;\">\n",
       "      <th></th>\n",
       "      <th>Place</th>\n",
       "      <th>Competitor</th>\n",
       "      <th>DOB</th>\n",
       "      <th>Nat</th>\n",
       "      <th>Score</th>\n",
       "      <th>Event List</th>\n",
       "      <th>Age</th>\n",
       "      <th>Thrower Class</th>\n",
       "      <th>Gender</th>\n",
       "    </tr>\n",
       "  </thead>\n",
       "  <tbody>\n",
       "    <tr>\n",
       "      <th>0</th>\n",
       "      <td>1</td>\n",
       "      <td>Kara WINGER</td>\n",
       "      <td>10 APR 1986</td>\n",
       "      <td>USA</td>\n",
       "      <td>1382</td>\n",
       "      <td>Javelin Throw</td>\n",
       "      <td>37.0</td>\n",
       "      <td>1st Class</td>\n",
       "      <td>Female</td>\n",
       "    </tr>\n",
       "    <tr>\n",
       "      <th>1</th>\n",
       "      <td>2</td>\n",
       "      <td>Kelsey-Lee BARBER</td>\n",
       "      <td>20 SEP 1991</td>\n",
       "      <td>AUS</td>\n",
       "      <td>1367</td>\n",
       "      <td>Javelin Throw</td>\n",
       "      <td>31.0</td>\n",
       "      <td>1st Class</td>\n",
       "      <td>Female</td>\n",
       "    </tr>\n",
       "    <tr>\n",
       "      <th>2</th>\n",
       "      <td>3</td>\n",
       "      <td>Haruka KITAGUCHI</td>\n",
       "      <td>16 MAR 1998</td>\n",
       "      <td>JPN</td>\n",
       "      <td>1357</td>\n",
       "      <td>Javelin Throw</td>\n",
       "      <td>25.0</td>\n",
       "      <td>1st Class</td>\n",
       "      <td>Female</td>\n",
       "    </tr>\n",
       "    <tr>\n",
       "      <th>3</th>\n",
       "      <td>4</td>\n",
       "      <td>Mackenzie LITTLE</td>\n",
       "      <td>22 DEC 1996</td>\n",
       "      <td>AUS</td>\n",
       "      <td>1294</td>\n",
       "      <td>Javelin Throw</td>\n",
       "      <td>26.0</td>\n",
       "      <td>1st Class</td>\n",
       "      <td>Female</td>\n",
       "    </tr>\n",
       "    <tr>\n",
       "      <th>4</th>\n",
       "      <td>5</td>\n",
       "      <td>Elina TZENGKO</td>\n",
       "      <td>02 SEP 2002</td>\n",
       "      <td>GRE</td>\n",
       "      <td>1269</td>\n",
       "      <td>Javelin Throw</td>\n",
       "      <td>20.0</td>\n",
       "      <td>1st Class</td>\n",
       "      <td>Female</td>\n",
       "    </tr>\n",
       "  </tbody>\n",
       "</table>\n",
       "</div>"
      ],
      "text/plain": [
       "   Place         Competitor          DOB  Nat  Score     Event List   Age  \\\n",
       "0      1        Kara WINGER  10 APR 1986  USA   1382  Javelin Throw  37.0   \n",
       "1      2  Kelsey-Lee BARBER  20 SEP 1991  AUS   1367  Javelin Throw  31.0   \n",
       "2      3   Haruka KITAGUCHI  16 MAR 1998  JPN   1357  Javelin Throw  25.0   \n",
       "3      4   Mackenzie LITTLE  22 DEC 1996  AUS   1294  Javelin Throw  26.0   \n",
       "4      5      Elina TZENGKO  02 SEP 2002  GRE   1269  Javelin Throw  20.0   \n",
       "\n",
       "  Thrower Class  Gender  \n",
       "0     1st Class  Female  \n",
       "1     1st Class  Female  \n",
       "2     1st Class  Female  \n",
       "3     1st Class  Female  \n",
       "4     1st Class  Female  "
      ]
     },
     "execution_count": 8,
     "metadata": {},
     "output_type": "execute_result"
    }
   ],
   "source": [
    "print(w_df.shape)\n",
    "w_df.head(5)"
   ]
  },
  {
   "cell_type": "code",
   "execution_count": 11,
   "id": "9a9fad58-4ea7-463e-8da7-78425aa1f1e2",
   "metadata": {},
   "outputs": [
    {
     "data": {
      "text/html": [
       "<div>\n",
       "<style scoped>\n",
       "    .dataframe tbody tr th:only-of-type {\n",
       "        vertical-align: middle;\n",
       "    }\n",
       "\n",
       "    .dataframe tbody tr th {\n",
       "        vertical-align: top;\n",
       "    }\n",
       "\n",
       "    .dataframe thead th {\n",
       "        text-align: right;\n",
       "    }\n",
       "</style>\n",
       "<table border=\"1\" class=\"dataframe\">\n",
       "  <thead>\n",
       "    <tr style=\"text-align: right;\">\n",
       "      <th></th>\n",
       "      <th>Place</th>\n",
       "      <th>Competitor</th>\n",
       "      <th>DOB</th>\n",
       "      <th>Nat</th>\n",
       "      <th>Score</th>\n",
       "      <th>Event List</th>\n",
       "      <th>Age</th>\n",
       "      <th>Thrower Class</th>\n",
       "      <th>Gender</th>\n",
       "    </tr>\n",
       "  </thead>\n",
       "  <tbody>\n",
       "    <tr>\n",
       "      <th>0</th>\n",
       "      <td>1</td>\n",
       "      <td>Anderson PETERS</td>\n",
       "      <td>21 OCT 1997</td>\n",
       "      <td>GRN</td>\n",
       "      <td>1461</td>\n",
       "      <td>Javelin Throw</td>\n",
       "      <td>25.0</td>\n",
       "      <td>1st Class</td>\n",
       "      <td>Male</td>\n",
       "    </tr>\n",
       "    <tr>\n",
       "      <th>1</th>\n",
       "      <td>2</td>\n",
       "      <td>Neeraj CHOPRA</td>\n",
       "      <td>24 DEC 1997</td>\n",
       "      <td>IND</td>\n",
       "      <td>1455</td>\n",
       "      <td>Javelin Throw</td>\n",
       "      <td>25.0</td>\n",
       "      <td>1st Class</td>\n",
       "      <td>Male</td>\n",
       "    </tr>\n",
       "    <tr>\n",
       "      <th>2</th>\n",
       "      <td>3</td>\n",
       "      <td>Jakub VADLEJCH</td>\n",
       "      <td>10 OCT 1990</td>\n",
       "      <td>CZE</td>\n",
       "      <td>1428</td>\n",
       "      <td>Javelin Throw</td>\n",
       "      <td>32.0</td>\n",
       "      <td>1st Class</td>\n",
       "      <td>Male</td>\n",
       "    </tr>\n",
       "    <tr>\n",
       "      <th>3</th>\n",
       "      <td>4</td>\n",
       "      <td>Julian WEBER</td>\n",
       "      <td>29 AUG 1994</td>\n",
       "      <td>GER</td>\n",
       "      <td>1385</td>\n",
       "      <td>Javelin Throw</td>\n",
       "      <td>28.0</td>\n",
       "      <td>1st Class</td>\n",
       "      <td>Male</td>\n",
       "    </tr>\n",
       "    <tr>\n",
       "      <th>4</th>\n",
       "      <td>5</td>\n",
       "      <td>Arshad NADEEM</td>\n",
       "      <td>02 JAN 1997</td>\n",
       "      <td>PAK</td>\n",
       "      <td>1306</td>\n",
       "      <td>Javelin Throw</td>\n",
       "      <td>26.0</td>\n",
       "      <td>1st Class</td>\n",
       "      <td>Male</td>\n",
       "    </tr>\n",
       "    <tr>\n",
       "      <th>...</th>\n",
       "      <td>...</td>\n",
       "      <td>...</td>\n",
       "      <td>...</td>\n",
       "      <td>...</td>\n",
       "      <td>...</td>\n",
       "      <td>...</td>\n",
       "      <td>...</td>\n",
       "      <td>...</td>\n",
       "      <td>...</td>\n",
       "    </tr>\n",
       "    <tr>\n",
       "      <th>427</th>\n",
       "      <td>496</td>\n",
       "      <td>Yu-bin CHOI</td>\n",
       "      <td>06 NOV 2005</td>\n",
       "      <td>KOR</td>\n",
       "      <td>755</td>\n",
       "      <td>Javelin Throw</td>\n",
       "      <td>17.0</td>\n",
       "      <td>5th Class</td>\n",
       "      <td>Female</td>\n",
       "    </tr>\n",
       "    <tr>\n",
       "      <th>428</th>\n",
       "      <td>497</td>\n",
       "      <td>Saga KURUNMÄKI</td>\n",
       "      <td>05 JAN 2003</td>\n",
       "      <td>FIN</td>\n",
       "      <td>755</td>\n",
       "      <td>Javelin Throw</td>\n",
       "      <td>20.0</td>\n",
       "      <td>5th Class</td>\n",
       "      <td>Female</td>\n",
       "    </tr>\n",
       "    <tr>\n",
       "      <th>429</th>\n",
       "      <td>498</td>\n",
       "      <td>Yasmin WILKE</td>\n",
       "      <td>05 JAN 2003</td>\n",
       "      <td>GER</td>\n",
       "      <td>754</td>\n",
       "      <td>Javelin Throw</td>\n",
       "      <td>20.0</td>\n",
       "      <td>5th Class</td>\n",
       "      <td>Female</td>\n",
       "    </tr>\n",
       "    <tr>\n",
       "      <th>430</th>\n",
       "      <td>499</td>\n",
       "      <td>Júlia HANULIAKOVÁ</td>\n",
       "      <td>16 MAY 2000</td>\n",
       "      <td>SVK</td>\n",
       "      <td>754</td>\n",
       "      <td>Javelin Throw</td>\n",
       "      <td>22.0</td>\n",
       "      <td>5th Class</td>\n",
       "      <td>Female</td>\n",
       "    </tr>\n",
       "    <tr>\n",
       "      <th>431</th>\n",
       "      <td>500</td>\n",
       "      <td>Wiebke OELGARDT</td>\n",
       "      <td>29 JUL 2001</td>\n",
       "      <td>GER</td>\n",
       "      <td>754</td>\n",
       "      <td>Javelin Throw</td>\n",
       "      <td>21.0</td>\n",
       "      <td>5th Class</td>\n",
       "      <td>Female</td>\n",
       "    </tr>\n",
       "  </tbody>\n",
       "</table>\n",
       "<p>880 rows × 9 columns</p>\n",
       "</div>"
      ],
      "text/plain": [
       "     Place         Competitor          DOB  Nat  Score     Event List   Age  \\\n",
       "0        1    Anderson PETERS  21 OCT 1997  GRN   1461  Javelin Throw  25.0   \n",
       "1        2      Neeraj CHOPRA  24 DEC 1997  IND   1455  Javelin Throw  25.0   \n",
       "2        3     Jakub VADLEJCH  10 OCT 1990  CZE   1428  Javelin Throw  32.0   \n",
       "3        4       Julian WEBER  29 AUG 1994  GER   1385  Javelin Throw  28.0   \n",
       "4        5      Arshad NADEEM  02 JAN 1997  PAK   1306  Javelin Throw  26.0   \n",
       "..     ...                ...          ...  ...    ...            ...   ...   \n",
       "427    496        Yu-bin CHOI  06 NOV 2005  KOR    755  Javelin Throw  17.0   \n",
       "428    497     Saga KURUNMÄKI  05 JAN 2003  FIN    755  Javelin Throw  20.0   \n",
       "429    498       Yasmin WILKE  05 JAN 2003  GER    754  Javelin Throw  20.0   \n",
       "430    499  Júlia HANULIAKOVÁ  16 MAY 2000  SVK    754  Javelin Throw  22.0   \n",
       "431    500    Wiebke OELGARDT  29 JUL 2001  GER    754  Javelin Throw  21.0   \n",
       "\n",
       "    Thrower Class  Gender  \n",
       "0       1st Class    Male  \n",
       "1       1st Class    Male  \n",
       "2       1st Class    Male  \n",
       "3       1st Class    Male  \n",
       "4       1st Class    Male  \n",
       "..            ...     ...  \n",
       "427     5th Class  Female  \n",
       "428     5th Class  Female  \n",
       "429     5th Class  Female  \n",
       "430     5th Class  Female  \n",
       "431     5th Class  Female  \n",
       "\n",
       "[880 rows x 9 columns]"
      ]
     },
     "execution_count": 11,
     "metadata": {},
     "output_type": "execute_result"
    }
   ],
   "source": [
    "both_df = pd.concat([m_df, w_df])\n",
    "both_df"
   ]
  },
  {
   "cell_type": "code",
   "execution_count": 14,
   "id": "380ca2c5-06b5-44be-8d7e-3816e68979f1",
   "metadata": {},
   "outputs": [
    {
     "data": {
      "text/plain": [
       "<AxesSubplot:ylabel='Frequency'>"
      ]
     },
     "execution_count": 14,
     "metadata": {},
     "output_type": "execute_result"
    },
    {
     "data": {
      "image/png": "[encoded data removed]",
      "text/plain": [
       "<Figure size 640x480 with 1 Axes>"
      ]
     },
     "metadata": {},
     "output_type": "display_data"
    }
   ],
   "source": [
    "both_df.Age.plot.hist(edgecolor='black')"
   ]
  },
  {
   "cell_type": "code",
   "execution_count": 38,
   "id": "1b5cc128-0d3f-4313-aea2-63953b11e167",
   "metadata": {},
   "outputs": [
    {
     "data": {
      "image/png": "[encoded data removed]",
      "text/plain": [
       "<Figure size 640x480 with 1 Axes>"
      ]
     },
     "metadata": {},
     "output_type": "display_data"
    }
   ],
   "source": [
    "men_age = both_df[both_df.Gender == \"Male\"].Age\n",
    "women_age = both_df[both_df.Gender == \"Female\"].Age\n",
    "\n",
    "plt.hist(men_age, bins=20, alpha=0.75, label=\"Men\", color=\"green\", edgecolor = 'black')\n",
    "plt.hist(women_age, bins=20, alpha=0.6, label=\"Women\", color=\"purple\")\n",
    "plt.legend()\n",
    "plt.show()"
   ]
  },
  {
   "cell_type": "markdown",
   "id": "7656c20d-5fde-451c-81cb-82752fe341ca",
   "metadata": {},
   "source": [
    "## Question: Is there a difference in mean age between Elite Men and Women Javelin Throwers?"
   ]
  },
  {
   "cell_type": "code",
   "execution_count": 36,
   "id": "66622d31-740b-440f-ba1f-346dd87b865e",
   "metadata": {},
   "outputs": [
    {
     "data": {
      "text/html": [
       "<div>\n",
       "<style scoped>\n",
       "    .dataframe tbody tr th:only-of-type {\n",
       "        vertical-align: middle;\n",
       "    }\n",
       "\n",
       "    .dataframe tbody tr th {\n",
       "        vertical-align: top;\n",
       "    }\n",
       "\n",
       "    .dataframe thead th {\n",
       "        text-align: right;\n",
       "    }\n",
       "</style>\n",
       "<table border=\"1\" class=\"dataframe\">\n",
       "  <thead>\n",
       "    <tr style=\"text-align: right;\">\n",
       "      <th></th>\n",
       "      <th>B</th>\n",
       "      <th>mean(A)</th>\n",
       "      <th>mean(B)</th>\n",
       "      <th>diff</th>\n",
       "      <th>se</th>\n",
       "      <th>T</th>\n",
       "      <th>df</th>\n",
       "      <th>pval</th>\n",
       "      <th>hedges</th>\n",
       "    </tr>\n",
       "    <tr>\n",
       "      <th>A</th>\n",
       "      <th></th>\n",
       "      <th></th>\n",
       "      <th></th>\n",
       "      <th></th>\n",
       "      <th></th>\n",
       "      <th></th>\n",
       "      <th></th>\n",
       "      <th></th>\n",
       "      <th></th>\n",
       "    </tr>\n",
       "  </thead>\n",
       "  <tbody>\n",
       "    <tr>\n",
       "      <th>Female</th>\n",
       "      <td>Male</td>\n",
       "      <td>23.141204</td>\n",
       "      <td>24.017857</td>\n",
       "      <td>-0.876653</td>\n",
       "      <td>0.325703</td>\n",
       "      <td>-2.691572</td>\n",
       "      <td>877.735205</td>\n",
       "      <td>0.007247</td>\n",
       "      <td>-0.181163</td>\n",
       "    </tr>\n",
       "  </tbody>\n",
       "</table>\n",
       "</div>"
      ],
      "text/plain": [
       "           B    mean(A)    mean(B)      diff        se         T          df  \\\n",
       "A                                                                              \n",
       "Female  Male  23.141204  24.017857 -0.876653  0.325703 -2.691572  877.735205   \n",
       "\n",
       "            pval    hedges  \n",
       "A                           \n",
       "Female  0.007247 -0.181163  "
      ]
     },
     "execution_count": 36,
     "metadata": {},
     "output_type": "execute_result"
    }
   ],
   "source": [
    "pairwise = pg.pairwise_gameshowell(data=both_df, dv='Age', between='Gender').sort_values(['pval'], ascending = True).set_index('A')\n",
    "pairwise"
   ]
  },
  {
   "cell_type": "markdown",
   "id": "38d5f9c2-f275-43c4-bab1-463e671de280",
   "metadata": {},
   "source": [
    "## Answer: Yes. The average age of women is .88 years younger than men. "
   ]
  },
  {
   "cell_type": "markdown",
   "id": "57b0e7c8-7cfc-4d2c-a877-69a18aad90a1",
   "metadata": {},
   "source": [
    "## It's clear for previous analyses that 1st Class throwers of both genders are significantly older than lower classes. The question now is: How do the ages of 1st Class Throwers compare between Genders?"
   ]
  },
  {
   "cell_type": "code",
   "execution_count": 20,
   "id": "f52c27e0-f04b-49c5-801d-3b64b00e8029",
   "metadata": {},
   "outputs": [],
   "source": [
    "First_Class = both_df[both_df[\"Thrower Class\"] == \"1st Class\"]"
   ]
  },
  {
   "cell_type": "code",
   "execution_count": 25,
   "id": "6617bd05-4e4c-436c-b016-b4febc98004f",
   "metadata": {},
   "outputs": [
    {
     "data": {
      "text/plain": [
       "<AxesSubplot:ylabel='Frequency'>"
      ]
     },
     "execution_count": 25,
     "metadata": {},
     "output_type": "execute_result"
    },
    {
     "data": {
      "image/png": "[encoded data removed]",
      "text/plain": [
       "<Figure size 640x480 with 1 Axes>"
      ]
     },
     "metadata": {},
     "output_type": "display_data"
    }
   ],
   "source": [
    "First_Class.Age.plot.hist(color='orange',edgecolor='black')"
   ]
  },
  {
   "cell_type": "code",
   "execution_count": 39,
   "id": "ff7572b6-4b03-4716-ab29-8920d3d6ed66",
   "metadata": {},
   "outputs": [
    {
     "data": {
      "image/png": "[encoded data removed]",
      "text/plain": [
       "<Figure size 640x480 with 1 Axes>"
      ]
     },
     "metadata": {},
     "output_type": "display_data"
    }
   ],
   "source": [
    "fc_men_age = First_Class[First_Class.Gender == \"Male\"].Age\n",
    "fc_women_age = First_Class[First_Class.Gender == \"Female\"].Age\n",
    "\n",
    "plt.hist(fc_men_age, bins=20, alpha=0.75, label=\"Men\", color=\"green\", edgecolor = 'black')\n",
    "plt.hist(fc_women_age, bins=20, alpha=0.6, label=\"Women\", color=\"purple\")\n",
    "plt.legend()\n",
    "plt.show()"
   ]
  },
  {
   "cell_type": "code",
   "execution_count": 40,
   "id": "fb9c8542-0c1f-46d1-b0db-3600a5dc1bcb",
   "metadata": {},
   "outputs": [
    {
     "data": {
      "text/html": [
       "<div>\n",
       "<style scoped>\n",
       "    .dataframe tbody tr th:only-of-type {\n",
       "        vertical-align: middle;\n",
       "    }\n",
       "\n",
       "    .dataframe tbody tr th {\n",
       "        vertical-align: top;\n",
       "    }\n",
       "\n",
       "    .dataframe thead th {\n",
       "        text-align: right;\n",
       "    }\n",
       "</style>\n",
       "<table border=\"1\" class=\"dataframe\">\n",
       "  <thead>\n",
       "    <tr style=\"text-align: right;\">\n",
       "      <th></th>\n",
       "      <th>B</th>\n",
       "      <th>mean(A)</th>\n",
       "      <th>mean(B)</th>\n",
       "      <th>diff</th>\n",
       "      <th>se</th>\n",
       "      <th>T</th>\n",
       "      <th>df</th>\n",
       "      <th>pval</th>\n",
       "      <th>hedges</th>\n",
       "    </tr>\n",
       "    <tr>\n",
       "      <th>A</th>\n",
       "      <th></th>\n",
       "      <th></th>\n",
       "      <th></th>\n",
       "      <th></th>\n",
       "      <th></th>\n",
       "      <th></th>\n",
       "      <th></th>\n",
       "      <th></th>\n",
       "      <th></th>\n",
       "    </tr>\n",
       "  </thead>\n",
       "  <tbody>\n",
       "    <tr>\n",
       "      <th>Female</th>\n",
       "      <td>Male</td>\n",
       "      <td>26.727273</td>\n",
       "      <td>26.09</td>\n",
       "      <td>0.637273</td>\n",
       "      <td>0.70595</td>\n",
       "      <td>0.902716</td>\n",
       "      <td>176.302187</td>\n",
       "      <td>0.367908</td>\n",
       "      <td>0.127712</td>\n",
       "    </tr>\n",
       "  </tbody>\n",
       "</table>\n",
       "</div>"
      ],
      "text/plain": [
       "           B    mean(A)  mean(B)      diff       se         T          df  \\\n",
       "A                                                                           \n",
       "Female  Male  26.727273    26.09  0.637273  0.70595  0.902716  176.302187   \n",
       "\n",
       "            pval    hedges  \n",
       "A                           \n",
       "Female  0.367908  0.127712  "
      ]
     },
     "execution_count": 40,
     "metadata": {},
     "output_type": "execute_result"
    }
   ],
   "source": [
    "pairwise = pg.pairwise_gameshowell(data=First_Class, dv='Age', between='Gender').sort_values(['pval'], ascending = True).set_index('A')\n",
    "pairwise"
   ]
  },
  {
   "cell_type": "markdown",
   "id": "d2d06218-52f1-4ab4-adfa-8003108555cc",
   "metadata": {},
   "source": [
    "## There is no sigificant difference betweewn the mean age of 1st Class Javelin Throwers between genders and the difference itself is relatively smaller than that observed in the pairwise ttest for the Top 500 datasets (.63 vs. -.88 respectively)."
   ]
  }
 ],
 "metadata": {
  "kernelspec": {
   "display_name": "Python 3 (ipykernel)",
   "language": "python",
   "name": "python3"
  },
  "language_info": {
   "codemirror_mode": {
    "name": "ipython",
    "version": 3
   },
   "file_extension": ".py",
   "mimetype": "text/x-python",
   "name": "python",
   "nbconvert_exporter": "python",
   "pygments_lexer": "ipython3",
   "version": "3.9.13"
  }
 },
 "nbformat": 4,
 "nbformat_minor": 5
}
