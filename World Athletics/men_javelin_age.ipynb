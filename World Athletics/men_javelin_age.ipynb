{
 "cells": [
  {
   "cell_type": "markdown",
   "metadata": {
    "tags": []
   },
   "source": [
    "# How old is the average Male Javelin Thrower?"
   ]
  },
  {
   "cell_type": "markdown",
   "metadata": {},
   "source": [
    "### Purpose: Perform EDA on the top 500 Men's Javelin Throwers in the World as of May 9th 2023 in order to extract meaningful descriptive statistics and visualizations of the distribution of ages among these athletes"
   ]
  },
  {
   "cell_type": "code",
   "execution_count": 1,
   "metadata": {},
   "outputs": [],
   "source": [
    "# Data collection (scraping)\n",
    "import requests\n",
    "from bs4 import BeautifulSoup as soup\n",
    "from splinter import Browser\n",
    "\n",
    "# ChromeDriverManager\n",
    "from webdriver_manager.chrome import ChromeDriverManager\n",
    "# executable_path = {'executable_path': ChromeDriverManager().install()}\n",
    "# browser = Browser('chrome', **executable_path, headless=False)\n",
    "\n",
    "# Data manipulation\n",
    "import pandas as pd\n",
    "from datetime import datetime\n",
    "import numpy as np\n",
    "\n",
    "# Data analysis\n",
    "import matplotlib.pyplot as plt\n",
    "import scipy.stats as sts\n",
    "from scipy.interpolate import make_interp_spline"
   ]
  },
  {
   "cell_type": "code",
   "execution_count": 2,
   "metadata": {},
   "outputs": [],
   "source": [
    "# Import pingouin for additional statistical analysis\n",
    "import pingouin as pg\n",
    "from pingouin import pairwise_ttests"
   ]
  },
  {
   "cell_type": "code",
   "execution_count": 26,
   "metadata": {},
   "outputs": [
    {
     "ename": "ModuleNotFoundError",
     "evalue": "No module named 'dataframe_image'",
     "output_type": "error",
     "traceback": [
      "\u001b[1;31m---------------------------------------------------------------------------\u001b[0m",
      "\u001b[1;31mModuleNotFoundError\u001b[0m                       Traceback (most recent call last)",
      "\u001b[1;32m~\\AppData\\Local\\Temp\\ipykernel_11360\\4129673411.py\u001b[0m in \u001b[0;36m<module>\u001b[1;34m\u001b[0m\n\u001b[0;32m      1\u001b[0m \u001b[1;31m# Import dataframe_image to export df as png\u001b[0m\u001b[1;33m\u001b[0m\u001b[1;33m\u001b[0m\u001b[0m\n\u001b[1;32m----> 2\u001b[1;33m \u001b[1;32mimport\u001b[0m \u001b[0mdataframe_image\u001b[0m \u001b[1;32mas\u001b[0m \u001b[0mdfi\u001b[0m\u001b[1;33m\u001b[0m\u001b[1;33m\u001b[0m\u001b[0m\n\u001b[0m",
      "\u001b[1;31mModuleNotFoundError\u001b[0m: No module named 'dataframe_image'"
     ]
    }
   ],
   "source": [
    "# Import dataframe_image to export df as png\n",
    "import dataframe_image as dfi"
   ]
  },
  {
   "cell_type": "code",
   "execution_count": 3,
   "metadata": {},
   "outputs": [],
   "source": [
    "# Launch Chrome Browser\n",
    "executable_path = {'executable_path': ChromeDriverManager().install()}\n",
    "browser = Browser('chrome', **executable_path, headless=False)"
   ]
  },
  {
   "cell_type": "markdown",
   "metadata": {},
   "source": [
    "### Collect data from worldathletics.org"
   ]
  },
  {
   "cell_type": "code",
   "execution_count": 4,
   "metadata": {},
   "outputs": [],
   "source": [
    "men_url = 'https://worldathletics.org/world-rankings/javelin-throw/men?regionType=world&page=1&rankDate=2023-05-09&limitByCountry=0'\n",
    "browser.visit(men_url)\n",
    "\n",
    "pages = []\n",
    "for i in range(1,6):\n",
    "    tables = pd.read_html(f'https://worldathletics.org/world-rankings/javelin-throw/men?regionType=world&page={i}&rankDate=2023-05-09&limitByCountry=0')\n",
    "    pages.append(tables)\n",
    "\n",
    "frame = pd.DataFrame()\n",
    "for page in pages:\n",
    "    frame = pd.concat([frame,page[0]],axis=0)"
   ]
  },
  {
   "cell_type": "code",
   "execution_count": 5,
   "metadata": {},
   "outputs": [
    {
     "data": {
      "text/html": [
       "<div>\n",
       "<style scoped>\n",
       "    .dataframe tbody tr th:only-of-type {\n",
       "        vertical-align: middle;\n",
       "    }\n",
       "\n",
       "    .dataframe tbody tr th {\n",
       "        vertical-align: top;\n",
       "    }\n",
       "\n",
       "    .dataframe thead th {\n",
       "        text-align: right;\n",
       "    }\n",
       "</style>\n",
       "<table border=\"1\" class=\"dataframe\">\n",
       "  <thead>\n",
       "    <tr style=\"text-align: right;\">\n",
       "      <th></th>\n",
       "      <th>Place</th>\n",
       "      <th>Competitor</th>\n",
       "      <th>DOB</th>\n",
       "      <th>Nat</th>\n",
       "      <th>Score</th>\n",
       "      <th>Event List</th>\n",
       "    </tr>\n",
       "  </thead>\n",
       "  <tbody>\n",
       "    <tr>\n",
       "      <th>0</th>\n",
       "      <td>1</td>\n",
       "      <td>Anderson PETERS</td>\n",
       "      <td>21 OCT 1997</td>\n",
       "      <td>GRN</td>\n",
       "      <td>1461</td>\n",
       "      <td>Javelin Throw</td>\n",
       "    </tr>\n",
       "    <tr>\n",
       "      <th>1</th>\n",
       "      <td>2</td>\n",
       "      <td>Neeraj CHOPRA</td>\n",
       "      <td>24 DEC 1997</td>\n",
       "      <td>IND</td>\n",
       "      <td>1455</td>\n",
       "      <td>Javelin Throw</td>\n",
       "    </tr>\n",
       "    <tr>\n",
       "      <th>2</th>\n",
       "      <td>3</td>\n",
       "      <td>Jakub VADLEJCH</td>\n",
       "      <td>10 OCT 1990</td>\n",
       "      <td>CZE</td>\n",
       "      <td>1428</td>\n",
       "      <td>Javelin Throw</td>\n",
       "    </tr>\n",
       "    <tr>\n",
       "      <th>3</th>\n",
       "      <td>4</td>\n",
       "      <td>Julian WEBER</td>\n",
       "      <td>29 AUG 1994</td>\n",
       "      <td>GER</td>\n",
       "      <td>1385</td>\n",
       "      <td>Javelin Throw</td>\n",
       "    </tr>\n",
       "    <tr>\n",
       "      <th>4</th>\n",
       "      <td>5</td>\n",
       "      <td>Arshad NADEEM</td>\n",
       "      <td>02 JAN 1997</td>\n",
       "      <td>PAK</td>\n",
       "      <td>1306</td>\n",
       "      <td>Javelin Throw</td>\n",
       "    </tr>\n",
       "  </tbody>\n",
       "</table>\n",
       "</div>"
      ],
      "text/plain": [
       "   Place       Competitor          DOB  Nat  Score     Event List\n",
       "0      1  Anderson PETERS  21 OCT 1997  GRN   1461  Javelin Throw\n",
       "1      2    Neeraj CHOPRA  24 DEC 1997  IND   1455  Javelin Throw\n",
       "2      3   Jakub VADLEJCH  10 OCT 1990  CZE   1428  Javelin Throw\n",
       "3      4     Julian WEBER  29 AUG 1994  GER   1385  Javelin Throw\n",
       "4      5    Arshad NADEEM  02 JAN 1997  PAK   1306  Javelin Throw"
      ]
     },
     "execution_count": 5,
     "metadata": {},
     "output_type": "execute_result"
    }
   ],
   "source": [
    "frame.head(5)"
   ]
  },
  {
   "cell_type": "markdown",
   "metadata": {},
   "source": [
    "### Calculate age with datetime and DOB variable"
   ]
  },
  {
   "cell_type": "code",
   "execution_count": 6,
   "metadata": {},
   "outputs": [],
   "source": [
    "# Copy dataframe\n",
    "df = frame.copy()"
   ]
  },
  {
   "cell_type": "code",
   "execution_count": 7,
   "metadata": {},
   "outputs": [
    {
     "data": {
      "text/plain": [
       "0     21 OCT 1997\n",
       "1     24 DEC 1997\n",
       "2     10 OCT 1990\n",
       "3     29 AUG 1994\n",
       "4     02 JAN 1997\n",
       "         ...     \n",
       "95    14 DEC 2005\n",
       "96    13 FEB 2000\n",
       "97    27 FEB 2001\n",
       "98    11 OCT 2002\n",
       "99    06 JAN 2004\n",
       "Name: DOB, Length: 500, dtype: object"
      ]
     },
     "execution_count": 7,
     "metadata": {},
     "output_type": "execute_result"
    }
   ],
   "source": [
    "# Inspect DOB in isolation\n",
    "frame.DOB"
   ]
  },
  {
   "cell_type": "code",
   "execution_count": 8,
   "metadata": {},
   "outputs": [],
   "source": [
    "# Define function to calculate current age\n",
    "def calculate_age(dob):\n",
    "    \"\"\"\n",
    "    Calculates the age based on the date of birth.\n",
    "    \"\"\"\n",
    "    try:\n",
    "        dob_date = datetime.strptime(str(dob), '%d %b %Y')\n",
    "        today_date = datetime.today()\n",
    "        age = today_date.year - dob_date.year - ((today_date.month, today_date.day) < (dob_date.month, dob_date.day))\n",
    "        return age\n",
    "    except:\n",
    "        return np.nan"
   ]
  },
  {
   "cell_type": "code",
   "execution_count": 9,
   "metadata": {},
   "outputs": [],
   "source": [
    "# Add a new column with the age calculated for each row\n",
    "df['Age'] = df['DOB'].apply(calculate_age)\n",
    "df['Age'] = df['Age'].fillna(0)"
   ]
  },
  {
   "cell_type": "code",
   "execution_count": 10,
   "metadata": {},
   "outputs": [
    {
     "data": {
      "text/html": [
       "<div>\n",
       "<style scoped>\n",
       "    .dataframe tbody tr th:only-of-type {\n",
       "        vertical-align: middle;\n",
       "    }\n",
       "\n",
       "    .dataframe tbody tr th {\n",
       "        vertical-align: top;\n",
       "    }\n",
       "\n",
       "    .dataframe thead th {\n",
       "        text-align: right;\n",
       "    }\n",
       "</style>\n",
       "<table border=\"1\" class=\"dataframe\">\n",
       "  <thead>\n",
       "    <tr style=\"text-align: right;\">\n",
       "      <th></th>\n",
       "      <th>Place</th>\n",
       "      <th>Competitor</th>\n",
       "      <th>DOB</th>\n",
       "      <th>Nat</th>\n",
       "      <th>Score</th>\n",
       "      <th>Event List</th>\n",
       "      <th>Age</th>\n",
       "    </tr>\n",
       "  </thead>\n",
       "  <tbody>\n",
       "    <tr>\n",
       "      <th>0</th>\n",
       "      <td>1</td>\n",
       "      <td>Anderson PETERS</td>\n",
       "      <td>21 OCT 1997</td>\n",
       "      <td>GRN</td>\n",
       "      <td>1461</td>\n",
       "      <td>Javelin Throw</td>\n",
       "      <td>25.0</td>\n",
       "    </tr>\n",
       "    <tr>\n",
       "      <th>1</th>\n",
       "      <td>2</td>\n",
       "      <td>Neeraj CHOPRA</td>\n",
       "      <td>24 DEC 1997</td>\n",
       "      <td>IND</td>\n",
       "      <td>1455</td>\n",
       "      <td>Javelin Throw</td>\n",
       "      <td>25.0</td>\n",
       "    </tr>\n",
       "    <tr>\n",
       "      <th>2</th>\n",
       "      <td>3</td>\n",
       "      <td>Jakub VADLEJCH</td>\n",
       "      <td>10 OCT 1990</td>\n",
       "      <td>CZE</td>\n",
       "      <td>1428</td>\n",
       "      <td>Javelin Throw</td>\n",
       "      <td>32.0</td>\n",
       "    </tr>\n",
       "    <tr>\n",
       "      <th>3</th>\n",
       "      <td>4</td>\n",
       "      <td>Julian WEBER</td>\n",
       "      <td>29 AUG 1994</td>\n",
       "      <td>GER</td>\n",
       "      <td>1385</td>\n",
       "      <td>Javelin Throw</td>\n",
       "      <td>28.0</td>\n",
       "    </tr>\n",
       "    <tr>\n",
       "      <th>4</th>\n",
       "      <td>5</td>\n",
       "      <td>Arshad NADEEM</td>\n",
       "      <td>02 JAN 1997</td>\n",
       "      <td>PAK</td>\n",
       "      <td>1306</td>\n",
       "      <td>Javelin Throw</td>\n",
       "      <td>26.0</td>\n",
       "    </tr>\n",
       "    <tr>\n",
       "      <th>...</th>\n",
       "      <td>...</td>\n",
       "      <td>...</td>\n",
       "      <td>...</td>\n",
       "      <td>...</td>\n",
       "      <td>...</td>\n",
       "      <td>...</td>\n",
       "      <td>...</td>\n",
       "    </tr>\n",
       "    <tr>\n",
       "      <th>95</th>\n",
       "      <td>496</td>\n",
       "      <td>Tomonori MORISAWA</td>\n",
       "      <td>14 DEC 2005</td>\n",
       "      <td>JPN</td>\n",
       "      <td>826</td>\n",
       "      <td>Javelin Throw</td>\n",
       "      <td>17.0</td>\n",
       "    </tr>\n",
       "    <tr>\n",
       "      <th>96</th>\n",
       "      <td>497</td>\n",
       "      <td>Thibaud DUTREY</td>\n",
       "      <td>13 FEB 2000</td>\n",
       "      <td>FRA</td>\n",
       "      <td>826</td>\n",
       "      <td>Javelin Throw</td>\n",
       "      <td>23.0</td>\n",
       "    </tr>\n",
       "    <tr>\n",
       "      <th>97</th>\n",
       "      <td>498</td>\n",
       "      <td>Kazuhisa MATSUSHIMA</td>\n",
       "      <td>27 FEB 2001</td>\n",
       "      <td>JPN</td>\n",
       "      <td>826</td>\n",
       "      <td>Javelin Throw</td>\n",
       "      <td>22.0</td>\n",
       "    </tr>\n",
       "    <tr>\n",
       "      <th>98</th>\n",
       "      <td>499</td>\n",
       "      <td>Shota KOMATSU</td>\n",
       "      <td>11 OCT 2002</td>\n",
       "      <td>JPN</td>\n",
       "      <td>826</td>\n",
       "      <td>Javelin Throw</td>\n",
       "      <td>20.0</td>\n",
       "    </tr>\n",
       "    <tr>\n",
       "      <th>99</th>\n",
       "      <td>500</td>\n",
       "      <td>Martin JANCSIK</td>\n",
       "      <td>06 JAN 2004</td>\n",
       "      <td>HUN</td>\n",
       "      <td>826</td>\n",
       "      <td>Javelin Throw</td>\n",
       "      <td>19.0</td>\n",
       "    </tr>\n",
       "  </tbody>\n",
       "</table>\n",
       "<p>500 rows × 7 columns</p>\n",
       "</div>"
      ],
      "text/plain": [
       "    Place           Competitor          DOB  Nat  Score     Event List   Age\n",
       "0       1      Anderson PETERS  21 OCT 1997  GRN   1461  Javelin Throw  25.0\n",
       "1       2        Neeraj CHOPRA  24 DEC 1997  IND   1455  Javelin Throw  25.0\n",
       "2       3       Jakub VADLEJCH  10 OCT 1990  CZE   1428  Javelin Throw  32.0\n",
       "3       4         Julian WEBER  29 AUG 1994  GER   1385  Javelin Throw  28.0\n",
       "4       5        Arshad NADEEM  02 JAN 1997  PAK   1306  Javelin Throw  26.0\n",
       "..    ...                  ...          ...  ...    ...            ...   ...\n",
       "95    496    Tomonori MORISAWA  14 DEC 2005  JPN    826  Javelin Throw  17.0\n",
       "96    497       Thibaud DUTREY  13 FEB 2000  FRA    826  Javelin Throw  23.0\n",
       "97    498  Kazuhisa MATSUSHIMA  27 FEB 2001  JPN    826  Javelin Throw  22.0\n",
       "98    499        Shota KOMATSU  11 OCT 2002  JPN    826  Javelin Throw  20.0\n",
       "99    500       Martin JANCSIK  06 JAN 2004  HUN    826  Javelin Throw  19.0\n",
       "\n",
       "[500 rows x 7 columns]"
      ]
     },
     "execution_count": 10,
     "metadata": {},
     "output_type": "execute_result"
    }
   ],
   "source": [
    "df"
   ]
  },
  {
   "cell_type": "markdown",
   "metadata": {},
   "source": [
    "## Plot & Analyze Age"
   ]
  },
  {
   "cell_type": "code",
   "execution_count": 11,
   "metadata": {},
   "outputs": [
    {
     "data": {
      "text/plain": [
       "<AxesSubplot:ylabel='Frequency'>"
      ]
     },
     "execution_count": 11,
     "metadata": {},
     "output_type": "execute_result"
    },
    {
     "data": {
      "image/png": "[encoded data removed]",
      "text/plain": [
       "<Figure size 640x480 with 1 Axes>"
      ]
     },
     "metadata": {},
     "output_type": "display_data"
    }
   ],
   "source": [
    "df.Age.plot.hist(edgecolor='black')"
   ]
  },
  {
   "cell_type": "code",
   "execution_count": 12,
   "metadata": {},
   "outputs": [
    {
     "data": {
      "text/plain": [
       "(448, 7)"
      ]
     },
     "execution_count": 12,
     "metadata": {},
     "output_type": "execute_result"
    }
   ],
   "source": [
    "# Filter out anomolies < 15 yrs old\n",
    "df = df[df.Age >= 15]\n",
    "df.shape"
   ]
  },
  {
   "cell_type": "code",
   "execution_count": 13,
   "metadata": {},
   "outputs": [
    {
     "data": {
      "image/png": "[encoded data removed]",
      "text/plain": [
       "<Figure size 1400x700 with 1 Axes>"
      ]
     },
     "metadata": {},
     "output_type": "display_data"
    }
   ],
   "source": [
    "df.Age.plot.hist(bins=30, color='lightblue', edgecolor='black', figsize=[14,7])\n",
    "plt.title(\"Age of Male Javelin Thrower Ranked in the Top 500 in the World as of May 9th, 2023\", size = 14)\n",
    "plt.xlabel(\"Current Age in Years\")\n",
    "plt.show()"
   ]
  },
  {
   "cell_type": "code",
   "execution_count": 14,
   "metadata": {},
   "outputs": [
    {
     "data": {
      "text/plain": [
       "count    448.000000\n",
       "mean      24.017857\n",
       "std        4.960663\n",
       "min       16.000000\n",
       "25%       20.000000\n",
       "50%       23.000000\n",
       "75%       27.000000\n",
       "max       47.000000\n",
       "Name: Age, dtype: float64"
      ]
     },
     "execution_count": 14,
     "metadata": {},
     "output_type": "execute_result"
    }
   ],
   "source": [
    "df.Age.describe()"
   ]
  },
  {
   "cell_type": "code",
   "execution_count": 15,
   "metadata": {},
   "outputs": [
    {
     "data": {
      "image/png": "[encoded data removed]",
      "text/plain": [
       "<Figure size 1600x800 with 1 Axes>"
      ]
     },
     "metadata": {},
     "output_type": "display_data"
    }
   ],
   "source": [
    "top_hundred =  df[df.Place <= 100]\n",
    "top_hundred.Age.plot.hist(bins=22, color='teal', edgecolor='black', figsize=[16,8])\n",
    "plt.title(\"Histogram of the Age of the Top 100 Male Javelin Throwers in the World Today\", size=15)\n",
    "plt.xlabel(\"Current Athlete Age\", size=15)\n",
    "plt.ylabel(\"Frequency\")\n",
    "plt.annotate(\"Source: https://worldathletics.org/world-rankings/javelin-throw/men?regionType=world&page=1&rankDate=2023-05-09&limitByCountry=0\",\n",
    "            xy = (.785, -0.15),\n",
    "            xycoords='axes fraction',\n",
    "            ha='right',\n",
    "            va=\"center\",\n",
    "            fontsize=10)\n",
    "plt.savefig(\"top_100_age_histogram.png\")\n",
    "plt.show()"
   ]
  },
  {
   "cell_type": "code",
   "execution_count": 16,
   "metadata": {},
   "outputs": [
    {
     "data": {
      "text/plain": [
       "count    100.000000\n",
       "mean      26.090000\n",
       "std        4.062877\n",
       "min       18.000000\n",
       "25%       23.000000\n",
       "50%       26.000000\n",
       "75%       28.000000\n",
       "max       40.000000\n",
       "Name: Age, dtype: float64"
      ]
     },
     "execution_count": 16,
     "metadata": {},
     "output_type": "execute_result"
    }
   ],
   "source": [
    "top_hundred.Age.describe()"
   ]
  },
  {
   "cell_type": "code",
   "execution_count": 17,
   "metadata": {},
   "outputs": [
    {
     "data": {
      "image/png": "[encoded data removed]",
      "text/plain": [
       "<Figure size 1600x800 with 1 Axes>"
      ]
     },
     "metadata": {},
     "output_type": "display_data"
    }
   ],
   "source": [
    "top_fifty =  df[df.Place <= 50]\n",
    "top_fifty.Age.plot.hist(bins=22, color='purple', edgecolor='black', figsize=[16,8])\n",
    "plt.title(\"Histogram of the Age of the Top 50 Male Javelin Throwers in the World Today\", size=15)\n",
    "plt.xlabel(\"Current Athlete Age\", size=15)\n",
    "plt.ylabel(\"Frequency\")\n",
    "plt.annotate(\"Source: https://worldathletics.org/world-rankings/javelin-throw/men?regionType=world&page=1&rankDate=2023-05-09&limitByCountry=0\",\n",
    "            xy = (.785, -0.15),\n",
    "            xycoords='axes fraction',\n",
    "            ha='right',\n",
    "            va=\"center\",\n",
    "            fontsize=10)\n",
    "plt.savefig(\"top_50_age_histogram.png\")\n",
    "plt.show()"
   ]
  },
  {
   "cell_type": "markdown",
   "metadata": {},
   "source": [
    "### Bin throwers based on world ranking (N bins = 5) model = linear"
   ]
  },
  {
   "cell_type": "code",
   "execution_count": 18,
   "metadata": {},
   "outputs": [],
   "source": [
    "import warnings\n",
    "warnings.filterwarnings(\"ignore\")"
   ]
  },
  {
   "cell_type": "code",
   "execution_count": 19,
   "metadata": {
    "tags": []
   },
   "outputs": [],
   "source": [
    "bins = [0, 100, 200, 300, 400, 500]\n",
    "class_names = [\"1st Class\", \"2nd Class\", \"3rd Class\", \"4th Class\", \"5th Class\"]"
   ]
  },
  {
   "cell_type": "code",
   "execution_count": 20,
   "metadata": {},
   "outputs": [
    {
     "data": {
      "text/html": [
       "<div>\n",
       "<style scoped>\n",
       "    .dataframe tbody tr th:only-of-type {\n",
       "        vertical-align: middle;\n",
       "    }\n",
       "\n",
       "    .dataframe tbody tr th {\n",
       "        vertical-align: top;\n",
       "    }\n",
       "\n",
       "    .dataframe thead th {\n",
       "        text-align: right;\n",
       "    }\n",
       "</style>\n",
       "<table border=\"1\" class=\"dataframe\">\n",
       "  <thead>\n",
       "    <tr style=\"text-align: right;\">\n",
       "      <th></th>\n",
       "      <th>Place</th>\n",
       "      <th>Competitor</th>\n",
       "      <th>DOB</th>\n",
       "      <th>Nat</th>\n",
       "      <th>Score</th>\n",
       "      <th>Event List</th>\n",
       "      <th>Age</th>\n",
       "      <th>Thrower Class</th>\n",
       "    </tr>\n",
       "  </thead>\n",
       "  <tbody>\n",
       "    <tr>\n",
       "      <th>0</th>\n",
       "      <td>1</td>\n",
       "      <td>Anderson PETERS</td>\n",
       "      <td>21 OCT 1997</td>\n",
       "      <td>GRN</td>\n",
       "      <td>1461</td>\n",
       "      <td>Javelin Throw</td>\n",
       "      <td>25.0</td>\n",
       "      <td>1st Class</td>\n",
       "    </tr>\n",
       "    <tr>\n",
       "      <th>1</th>\n",
       "      <td>2</td>\n",
       "      <td>Neeraj CHOPRA</td>\n",
       "      <td>24 DEC 1997</td>\n",
       "      <td>IND</td>\n",
       "      <td>1455</td>\n",
       "      <td>Javelin Throw</td>\n",
       "      <td>25.0</td>\n",
       "      <td>1st Class</td>\n",
       "    </tr>\n",
       "    <tr>\n",
       "      <th>2</th>\n",
       "      <td>3</td>\n",
       "      <td>Jakub VADLEJCH</td>\n",
       "      <td>10 OCT 1990</td>\n",
       "      <td>CZE</td>\n",
       "      <td>1428</td>\n",
       "      <td>Javelin Throw</td>\n",
       "      <td>32.0</td>\n",
       "      <td>1st Class</td>\n",
       "    </tr>\n",
       "    <tr>\n",
       "      <th>3</th>\n",
       "      <td>4</td>\n",
       "      <td>Julian WEBER</td>\n",
       "      <td>29 AUG 1994</td>\n",
       "      <td>GER</td>\n",
       "      <td>1385</td>\n",
       "      <td>Javelin Throw</td>\n",
       "      <td>28.0</td>\n",
       "      <td>1st Class</td>\n",
       "    </tr>\n",
       "    <tr>\n",
       "      <th>4</th>\n",
       "      <td>5</td>\n",
       "      <td>Arshad NADEEM</td>\n",
       "      <td>02 JAN 1997</td>\n",
       "      <td>PAK</td>\n",
       "      <td>1306</td>\n",
       "      <td>Javelin Throw</td>\n",
       "      <td>26.0</td>\n",
       "      <td>1st Class</td>\n",
       "    </tr>\n",
       "    <tr>\n",
       "      <th>...</th>\n",
       "      <td>...</td>\n",
       "      <td>...</td>\n",
       "      <td>...</td>\n",
       "      <td>...</td>\n",
       "      <td>...</td>\n",
       "      <td>...</td>\n",
       "      <td>...</td>\n",
       "      <td>...</td>\n",
       "    </tr>\n",
       "    <tr>\n",
       "      <th>95</th>\n",
       "      <td>496</td>\n",
       "      <td>Tomonori MORISAWA</td>\n",
       "      <td>14 DEC 2005</td>\n",
       "      <td>JPN</td>\n",
       "      <td>826</td>\n",
       "      <td>Javelin Throw</td>\n",
       "      <td>17.0</td>\n",
       "      <td>5th Class</td>\n",
       "    </tr>\n",
       "    <tr>\n",
       "      <th>96</th>\n",
       "      <td>497</td>\n",
       "      <td>Thibaud DUTREY</td>\n",
       "      <td>13 FEB 2000</td>\n",
       "      <td>FRA</td>\n",
       "      <td>826</td>\n",
       "      <td>Javelin Throw</td>\n",
       "      <td>23.0</td>\n",
       "      <td>5th Class</td>\n",
       "    </tr>\n",
       "    <tr>\n",
       "      <th>97</th>\n",
       "      <td>498</td>\n",
       "      <td>Kazuhisa MATSUSHIMA</td>\n",
       "      <td>27 FEB 2001</td>\n",
       "      <td>JPN</td>\n",
       "      <td>826</td>\n",
       "      <td>Javelin Throw</td>\n",
       "      <td>22.0</td>\n",
       "      <td>5th Class</td>\n",
       "    </tr>\n",
       "    <tr>\n",
       "      <th>98</th>\n",
       "      <td>499</td>\n",
       "      <td>Shota KOMATSU</td>\n",
       "      <td>11 OCT 2002</td>\n",
       "      <td>JPN</td>\n",
       "      <td>826</td>\n",
       "      <td>Javelin Throw</td>\n",
       "      <td>20.0</td>\n",
       "      <td>5th Class</td>\n",
       "    </tr>\n",
       "    <tr>\n",
       "      <th>99</th>\n",
       "      <td>500</td>\n",
       "      <td>Martin JANCSIK</td>\n",
       "      <td>06 JAN 2004</td>\n",
       "      <td>HUN</td>\n",
       "      <td>826</td>\n",
       "      <td>Javelin Throw</td>\n",
       "      <td>19.0</td>\n",
       "      <td>5th Class</td>\n",
       "    </tr>\n",
       "  </tbody>\n",
       "</table>\n",
       "<p>448 rows × 8 columns</p>\n",
       "</div>"
      ],
      "text/plain": [
       "    Place           Competitor          DOB  Nat  Score     Event List   Age  \\\n",
       "0       1      Anderson PETERS  21 OCT 1997  GRN   1461  Javelin Throw  25.0   \n",
       "1       2        Neeraj CHOPRA  24 DEC 1997  IND   1455  Javelin Throw  25.0   \n",
       "2       3       Jakub VADLEJCH  10 OCT 1990  CZE   1428  Javelin Throw  32.0   \n",
       "3       4         Julian WEBER  29 AUG 1994  GER   1385  Javelin Throw  28.0   \n",
       "4       5        Arshad NADEEM  02 JAN 1997  PAK   1306  Javelin Throw  26.0   \n",
       "..    ...                  ...          ...  ...    ...            ...   ...   \n",
       "95    496    Tomonori MORISAWA  14 DEC 2005  JPN    826  Javelin Throw  17.0   \n",
       "96    497       Thibaud DUTREY  13 FEB 2000  FRA    826  Javelin Throw  23.0   \n",
       "97    498  Kazuhisa MATSUSHIMA  27 FEB 2001  JPN    826  Javelin Throw  22.0   \n",
       "98    499        Shota KOMATSU  11 OCT 2002  JPN    826  Javelin Throw  20.0   \n",
       "99    500       Martin JANCSIK  06 JAN 2004  HUN    826  Javelin Throw  19.0   \n",
       "\n",
       "   Thrower Class  \n",
       "0      1st Class  \n",
       "1      1st Class  \n",
       "2      1st Class  \n",
       "3      1st Class  \n",
       "4      1st Class  \n",
       "..           ...  \n",
       "95     5th Class  \n",
       "96     5th Class  \n",
       "97     5th Class  \n",
       "98     5th Class  \n",
       "99     5th Class  \n",
       "\n",
       "[448 rows x 8 columns]"
      ]
     },
     "execution_count": 20,
     "metadata": {},
     "output_type": "execute_result"
    }
   ],
   "source": [
    "df[\"Thrower Class\"] = pd.cut(df[\"Place\"], bins, labels=class_names, include_lowest=True)\n",
    "df"
   ]
  },
  {
   "cell_type": "markdown",
   "metadata": {},
   "source": [
    "### Plot Histogram of Age Overlaying Thrower Classes"
   ]
  },
  {
   "cell_type": "code",
   "execution_count": 21,
   "metadata": {},
   "outputs": [],
   "source": [
    "data1 = df[df[\"Thrower Class\"] == \"1st Class\"].Age\n",
    "data2 = df[df[\"Thrower Class\"] == \"2nd Class\"].Age\n",
    "data3 = df[df[\"Thrower Class\"] == \"3rd Class\"].Age\n",
    "data4 = df[df[\"Thrower Class\"] == \"4th Class\"].Age\n",
    "data5 = df[df[\"Thrower Class\"] == \"5th Class\"].Age"
   ]
  },
  {
   "cell_type": "code",
   "execution_count": 22,
   "metadata": {},
   "outputs": [
    {
     "data": {
      "image/png": "[encoded data removed]",
      "text/plain": [
       "<Figure size 1200x600 with 1 Axes>"
      ]
     },
     "metadata": {},
     "output_type": "display_data"
    }
   ],
   "source": [
    "# Set the figure size\n",
    "plt.figure(figsize=(12, 6))\n",
    "\n",
    "# Plot the histograms with customizations\n",
    "plt.hist(data5, bins=20, alpha=0.3, label='5th Class (500-401)', color='purple')\n",
    "plt.hist(data4, bins=20, alpha=0.4, label='4th Class (400-301)', color='orange')\n",
    "plt.hist(data3, bins=20, alpha=0.5, label='3rd Class (300-201)', color='red')\n",
    "plt.hist(data2, bins=20, alpha=0.6, label='2nd Class (200-101)', color='blue')\n",
    "plt.hist(data1, bins=20, alpha=0.7, label='1st Class (100-1)', color='green')\n",
    "\n",
    "# Add labels and a legend\n",
    "plt.title(\"Histogram of Age of World Athletics Top 500 Male Javelin Throwers Grouped by Class\")\n",
    "plt.xlabel('Age')\n",
    "plt.ylabel('Frequency')\n",
    "plt.legend()\n",
    "\n",
    "# Save the plot\n",
    "plt.savefig(\"Histogram_Men_Javelin.png\")\n",
    "\n",
    "# Show the plot\n",
    "plt.show()"
   ]
  },
  {
   "cell_type": "code",
   "execution_count": 23,
   "metadata": {},
   "outputs": [
    {
     "data": {
      "text/html": [
       "<div>\n",
       "<style scoped>\n",
       "    .dataframe tbody tr th:only-of-type {\n",
       "        vertical-align: middle;\n",
       "    }\n",
       "\n",
       "    .dataframe tbody tr th {\n",
       "        vertical-align: top;\n",
       "    }\n",
       "\n",
       "    .dataframe thead th {\n",
       "        text-align: right;\n",
       "    }\n",
       "</style>\n",
       "<table border=\"1\" class=\"dataframe\">\n",
       "  <thead>\n",
       "    <tr style=\"text-align: right;\">\n",
       "      <th></th>\n",
       "      <th>B</th>\n",
       "      <th>mean(A)</th>\n",
       "      <th>mean(B)</th>\n",
       "      <th>diff</th>\n",
       "      <th>se</th>\n",
       "      <th>T</th>\n",
       "      <th>df</th>\n",
       "      <th>pval</th>\n",
       "      <th>hedges</th>\n",
       "    </tr>\n",
       "    <tr>\n",
       "      <th>A</th>\n",
       "      <th></th>\n",
       "      <th></th>\n",
       "      <th></th>\n",
       "      <th></th>\n",
       "      <th></th>\n",
       "      <th></th>\n",
       "      <th></th>\n",
       "      <th></th>\n",
       "      <th></th>\n",
       "    </tr>\n",
       "  </thead>\n",
       "  <tbody>\n",
       "    <tr>\n",
       "      <th>1st Class</th>\n",
       "      <td>4th Class</td>\n",
       "      <td>26.090000</td>\n",
       "      <td>22.658824</td>\n",
       "      <td>3.431176</td>\n",
       "      <td>0.665023</td>\n",
       "      <td>5.159487</td>\n",
       "      <td>164.375297</td>\n",
       "      <td>0.000007</td>\n",
       "      <td>0.769008</td>\n",
       "    </tr>\n",
       "    <tr>\n",
       "      <th>1st Class</th>\n",
       "      <td>5th Class</td>\n",
       "      <td>26.090000</td>\n",
       "      <td>23.237500</td>\n",
       "      <td>2.852500</td>\n",
       "      <td>0.785724</td>\n",
       "      <td>3.630410</td>\n",
       "      <td>133.045409</td>\n",
       "      <td>0.003637</td>\n",
       "      <td>0.565388</td>\n",
       "    </tr>\n",
       "    <tr>\n",
       "      <th>1st Class</th>\n",
       "      <td>3rd Class</td>\n",
       "      <td>26.090000</td>\n",
       "      <td>23.712644</td>\n",
       "      <td>2.377356</td>\n",
       "      <td>0.664813</td>\n",
       "      <td>3.575977</td>\n",
       "      <td>167.413658</td>\n",
       "      <td>0.004118</td>\n",
       "      <td>0.529006</td>\n",
       "    </tr>\n",
       "    <tr>\n",
       "      <th>1st Class</th>\n",
       "      <td>2nd Class</td>\n",
       "      <td>26.090000</td>\n",
       "      <td>23.989583</td>\n",
       "      <td>2.100417</td>\n",
       "      <td>0.603210</td>\n",
       "      <td>3.482065</td>\n",
       "      <td>191.540206</td>\n",
       "      <td>0.005511</td>\n",
       "      <td>0.496352</td>\n",
       "    </tr>\n",
       "    <tr>\n",
       "      <th>2nd Class</th>\n",
       "      <td>4th Class</td>\n",
       "      <td>23.989583</td>\n",
       "      <td>22.658824</td>\n",
       "      <td>1.330760</td>\n",
       "      <td>0.689912</td>\n",
       "      <td>1.928884</td>\n",
       "      <td>170.259199</td>\n",
       "      <td>0.306093</td>\n",
       "      <td>0.287912</td>\n",
       "    </tr>\n",
       "    <tr>\n",
       "      <th>3rd Class</th>\n",
       "      <td>4th Class</td>\n",
       "      <td>23.712644</td>\n",
       "      <td>22.658824</td>\n",
       "      <td>1.053820</td>\n",
       "      <td>0.744374</td>\n",
       "      <td>1.415714</td>\n",
       "      <td>169.974414</td>\n",
       "      <td>0.618421</td>\n",
       "      <td>0.214927</td>\n",
       "    </tr>\n",
       "    <tr>\n",
       "      <th>2nd Class</th>\n",
       "      <td>5th Class</td>\n",
       "      <td>23.989583</td>\n",
       "      <td>23.237500</td>\n",
       "      <td>0.752083</td>\n",
       "      <td>0.806898</td>\n",
       "      <td>0.932067</td>\n",
       "      <td>141.047325</td>\n",
       "      <td>0.883991</td>\n",
       "      <td>0.144522</td>\n",
       "    </tr>\n",
       "    <tr>\n",
       "      <th>4th Class</th>\n",
       "      <td>5th Class</td>\n",
       "      <td>22.658824</td>\n",
       "      <td>23.237500</td>\n",
       "      <td>-0.578676</td>\n",
       "      <td>0.854095</td>\n",
       "      <td>-0.677532</td>\n",
       "      <td>151.859924</td>\n",
       "      <td>0.961015</td>\n",
       "      <td>-0.105733</td>\n",
       "    </tr>\n",
       "    <tr>\n",
       "      <th>3rd Class</th>\n",
       "      <td>5th Class</td>\n",
       "      <td>23.712644</td>\n",
       "      <td>23.237500</td>\n",
       "      <td>0.475144</td>\n",
       "      <td>0.853932</td>\n",
       "      <td>0.556419</td>\n",
       "      <td>152.749386</td>\n",
       "      <td>0.980995</td>\n",
       "      <td>0.086526</td>\n",
       "    </tr>\n",
       "    <tr>\n",
       "      <th>2nd Class</th>\n",
       "      <td>3rd Class</td>\n",
       "      <td>23.989583</td>\n",
       "      <td>23.712644</td>\n",
       "      <td>0.276940</td>\n",
       "      <td>0.689710</td>\n",
       "      <td>0.401531</td>\n",
       "      <td>173.059916</td>\n",
       "      <td>0.994481</td>\n",
       "      <td>0.059530</td>\n",
       "    </tr>\n",
       "  </tbody>\n",
       "</table>\n",
       "</div>"
      ],
      "text/plain": [
       "                   B    mean(A)    mean(B)      diff        se         T  \\\n",
       "A                                                                          \n",
       "1st Class  4th Class  26.090000  22.658824  3.431176  0.665023  5.159487   \n",
       "1st Class  5th Class  26.090000  23.237500  2.852500  0.785724  3.630410   \n",
       "1st Class  3rd Class  26.090000  23.712644  2.377356  0.664813  3.575977   \n",
       "1st Class  2nd Class  26.090000  23.989583  2.100417  0.603210  3.482065   \n",
       "2nd Class  4th Class  23.989583  22.658824  1.330760  0.689912  1.928884   \n",
       "3rd Class  4th Class  23.712644  22.658824  1.053820  0.744374  1.415714   \n",
       "2nd Class  5th Class  23.989583  23.237500  0.752083  0.806898  0.932067   \n",
       "4th Class  5th Class  22.658824  23.237500 -0.578676  0.854095 -0.677532   \n",
       "3rd Class  5th Class  23.712644  23.237500  0.475144  0.853932  0.556419   \n",
       "2nd Class  3rd Class  23.989583  23.712644  0.276940  0.689710  0.401531   \n",
       "\n",
       "                   df      pval    hedges  \n",
       "A                                          \n",
       "1st Class  164.375297  0.000007  0.769008  \n",
       "1st Class  133.045409  0.003637  0.565388  \n",
       "1st Class  167.413658  0.004118  0.529006  \n",
       "1st Class  191.540206  0.005511  0.496352  \n",
       "2nd Class  170.259199  0.306093  0.287912  \n",
       "3rd Class  169.974414  0.618421  0.214927  \n",
       "2nd Class  141.047325  0.883991  0.144522  \n",
       "4th Class  151.859924  0.961015 -0.105733  \n",
       "3rd Class  152.749386  0.980995  0.086526  \n",
       "2nd Class  173.059916  0.994481  0.059530  "
      ]
     },
     "execution_count": 23,
     "metadata": {},
     "output_type": "execute_result"
    }
   ],
   "source": [
    "# Use pingouin to perform pairwise ttests on monthly mean precipitation\n",
    "pairwise = pg.pairwise_gameshowell(data=df, dv='Age', between='Thrower Class').sort_values(['pval'], ascending = True).set_index('A')\n",
    "pairwise"
   ]
  },
  {
   "cell_type": "code",
   "execution_count": 24,
   "metadata": {},
   "outputs": [
    {
     "data": {
      "text/html": [
       "<div>\n",
       "<style scoped>\n",
       "    .dataframe tbody tr th:only-of-type {\n",
       "        vertical-align: middle;\n",
       "    }\n",
       "\n",
       "    .dataframe tbody tr th {\n",
       "        vertical-align: top;\n",
       "    }\n",
       "\n",
       "    .dataframe thead th {\n",
       "        text-align: right;\n",
       "    }\n",
       "</style>\n",
       "<table border=\"1\" class=\"dataframe\">\n",
       "  <thead>\n",
       "    <tr style=\"text-align: right;\">\n",
       "      <th></th>\n",
       "      <th>B</th>\n",
       "      <th>mean(A)</th>\n",
       "      <th>mean(B)</th>\n",
       "      <th>diff</th>\n",
       "      <th>se</th>\n",
       "      <th>T</th>\n",
       "      <th>df</th>\n",
       "      <th>pval</th>\n",
       "      <th>hedges</th>\n",
       "    </tr>\n",
       "    <tr>\n",
       "      <th>A</th>\n",
       "      <th></th>\n",
       "      <th></th>\n",
       "      <th></th>\n",
       "      <th></th>\n",
       "      <th></th>\n",
       "      <th></th>\n",
       "      <th></th>\n",
       "      <th></th>\n",
       "      <th></th>\n",
       "    </tr>\n",
       "  </thead>\n",
       "  <tbody>\n",
       "    <tr>\n",
       "      <th>1st Class</th>\n",
       "      <td>4th Class</td>\n",
       "      <td>26.09</td>\n",
       "      <td>22.658824</td>\n",
       "      <td>3.431176</td>\n",
       "      <td>0.665023</td>\n",
       "      <td>5.159487</td>\n",
       "      <td>164.375297</td>\n",
       "      <td>0.000007</td>\n",
       "      <td>0.769008</td>\n",
       "    </tr>\n",
       "    <tr>\n",
       "      <th>1st Class</th>\n",
       "      <td>5th Class</td>\n",
       "      <td>26.09</td>\n",
       "      <td>23.237500</td>\n",
       "      <td>2.852500</td>\n",
       "      <td>0.785724</td>\n",
       "      <td>3.630410</td>\n",
       "      <td>133.045409</td>\n",
       "      <td>0.003637</td>\n",
       "      <td>0.565388</td>\n",
       "    </tr>\n",
       "    <tr>\n",
       "      <th>1st Class</th>\n",
       "      <td>3rd Class</td>\n",
       "      <td>26.09</td>\n",
       "      <td>23.712644</td>\n",
       "      <td>2.377356</td>\n",
       "      <td>0.664813</td>\n",
       "      <td>3.575977</td>\n",
       "      <td>167.413658</td>\n",
       "      <td>0.004118</td>\n",
       "      <td>0.529006</td>\n",
       "    </tr>\n",
       "    <tr>\n",
       "      <th>1st Class</th>\n",
       "      <td>2nd Class</td>\n",
       "      <td>26.09</td>\n",
       "      <td>23.989583</td>\n",
       "      <td>2.100417</td>\n",
       "      <td>0.603210</td>\n",
       "      <td>3.482065</td>\n",
       "      <td>191.540206</td>\n",
       "      <td>0.005511</td>\n",
       "      <td>0.496352</td>\n",
       "    </tr>\n",
       "  </tbody>\n",
       "</table>\n",
       "</div>"
      ],
      "text/plain": [
       "                   B  mean(A)    mean(B)      diff        se         T  \\\n",
       "A                                                                        \n",
       "1st Class  4th Class    26.09  22.658824  3.431176  0.665023  5.159487   \n",
       "1st Class  5th Class    26.09  23.237500  2.852500  0.785724  3.630410   \n",
       "1st Class  3rd Class    26.09  23.712644  2.377356  0.664813  3.575977   \n",
       "1st Class  2nd Class    26.09  23.989583  2.100417  0.603210  3.482065   \n",
       "\n",
       "                   df      pval    hedges  \n",
       "A                                          \n",
       "1st Class  164.375297  0.000007  0.769008  \n",
       "1st Class  133.045409  0.003637  0.565388  \n",
       "1st Class  167.413658  0.004118  0.529006  \n",
       "1st Class  191.540206  0.005511  0.496352  "
      ]
     },
     "execution_count": 24,
     "metadata": {},
     "output_type": "execute_result"
    }
   ],
   "source": [
    "significant = pairwise[pairwise.pval <= .05]\n",
    "significant"
   ]
  },
  {
   "cell_type": "code",
   "execution_count": 25,
   "metadata": {},
   "outputs": [
    {
     "ename": "ModuleNotFoundError",
     "evalue": "No module named 'dataframe_image'",
     "output_type": "error",
     "traceback": [
      "\u001b[1;31m---------------------------------------------------------------------------\u001b[0m",
      "\u001b[1;31mModuleNotFoundError\u001b[0m                       Traceback (most recent call last)",
      "\u001b[1;32m~\\AppData\\Local\\Temp\\ipykernel_11360\\3582671254.py\u001b[0m in \u001b[0;36m<module>\u001b[1;34m\u001b[0m\n\u001b[1;32m----> 1\u001b[1;33m \u001b[1;32mimport\u001b[0m \u001b[0mdataframe_image\u001b[0m \u001b[1;32mas\u001b[0m \u001b[0mdfi\u001b[0m\u001b[1;33m\u001b[0m\u001b[1;33m\u001b[0m\u001b[0m\n\u001b[0m\u001b[0;32m      2\u001b[0m \u001b[0mdfi\u001b[0m\u001b[1;33m.\u001b[0m\u001b[0mexport\u001b[0m\u001b[1;33m(\u001b[0m\u001b[0msignificant\u001b[0m\u001b[1;33m,\u001b[0m \u001b[1;34m'significant_pairwise_ttest_results_men_javelin.png'\u001b[0m\u001b[1;33m)\u001b[0m\u001b[1;33m\u001b[0m\u001b[1;33m\u001b[0m\u001b[0m\n",
      "\u001b[1;31mModuleNotFoundError\u001b[0m: No module named 'dataframe_image'"
     ]
    }
   ],
   "source": [
    "dfi.export(significant, 'significant_pairwise_ttest_results_men_javelin.png')"
   ]
  },
  {
   "cell_type": "markdown",
   "metadata": {},
   "source": [
    "## Discussion: 1st Class Male Javelin Throwers: those ranked in the top 100 by World Athletics, have an average age that is statistically significantly different than that of all other classes of javelin throwers in the top 500. Average age of 1st Class Throwers is greater in all cases; ranging from 2.1 to 3.4 years older."
   ]
  }
 ],
 "metadata": {
  "kernelspec": {
   "display_name": "Python 3 (ipykernel)",
   "language": "python",
   "name": "python3"
  },
  "language_info": {
   "codemirror_mode": {
    "name": "ipython",
    "version": 3
   },
   "file_extension": ".py",
   "mimetype": "text/x-python",
   "name": "python",
   "nbconvert_exporter": "python",
   "pygments_lexer": "ipython3",
   "version": "3.9.13"
  },
  "vscode": {
   "interpreter": {
    "hash": "31f2aee4e71d21fbe5cf8b01ff0e069b9275f58929596ceb00d14d90e3e16cd6"
   }
  }
 },
 "nbformat": 4,
 "nbformat_minor": 4
}
