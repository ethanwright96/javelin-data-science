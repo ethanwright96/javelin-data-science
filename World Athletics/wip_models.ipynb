{
 "cells": [
  {
   "cell_type": "code",
   "execution_count": null,
   "id": "51141295-9e81-4b58-a291-f6eb6e7d9bb4",
   "metadata": {},
   "outputs": [],
   "source": [
    "# # Linear Regression for top_hundred\n",
    "# a, b = np.polyfit(top_hundred.Age, top_hundred.Place, 1)\n",
    "# plt.scatter(x=top_hundred.Age, y=top_hundred.Place)\n",
    "# plt.plot(top_hundred.Age, a*top_hundred.Age+b, color = 'darkorange')\n",
    "# plt.show()"
   ]
  },
  {
   "cell_type": "code",
   "execution_count": null,
   "id": "b522964a-801c-4f28-a9a8-4a5ab30bb4f9",
   "metadata": {
    "tags": []
   },
   "outputs": [],
   "source": [
    "# # Linear Regression for adult_df\n",
    "# a, b = np.polyfit(adult_df.Age, adult_df.Place, 1)\n",
    "# plt.scatter(x=adult_df.Age, y=adult_df.Place)\n",
    "# plt.plot(adult_df.Age, a*adult_df.Age+b, color = 'darkorange')\n",
    "# plt.show()"
   ]
  },
  {
   "cell_type": "code",
   "execution_count": 86,
   "id": "01d5d5ec-9b30-4687-ad51-169b07e57f74",
   "metadata": {},
   "outputs": [
    {
     "name": "stdout",
     "output_type": "stream",
     "text": [
      "R-squared: 0.041883\n"
     ]
    }
   ],
   "source": [
    "res = sts.linregress(adult_df.Age, adult_df.Place)\n",
    "print(f\"R-squared: {res.rvalue**2:.6f}\")"
   ]
  },
  {
   "cell_type": "markdown",
   "id": "8e2e3d5c-1c5d-48a0-b735-65d486798ebf",
   "metadata": {},
   "source": [
    "# Smooth Modelling"
   ]
  },
  {
   "cell_type": "code",
   "execution_count": 80,
   "id": "d4210544-9a6e-493b-a36e-decf29056f12",
   "metadata": {},
   "outputs": [
    {
     "name": "stdout",
     "output_type": "stream",
     "text": [
      "True\n",
      "False\n"
     ]
    }
   ],
   "source": [
    "# Remove missing values\n",
    "adult_df = adult_df.dropna()\n",
    "\n",
    "# Reset index\n",
    "adult_df = adult_df.reset_index(drop=True)\n",
    "\n",
    "# Assign variable to x and y\n",
    "x = adult_df.Age\n",
    "y = adult_df.Place\n",
    "\n",
    "# Remove duplicates\n",
    "unique_x, unique_idx = np.unique(x, return_index=True)\n",
    "x = unique_x\n",
    "y = y[unique_idx]\n",
    "\n",
    "# Define custom index\n",
    "idx = ['point_{}'.format(i) for i in range(len(x))]\n",
    "\n",
    "# Convert the lists to pandas Series with custom index 'idx'\n",
    "x = pd.Series(x, index=idx)\n",
    "y = pd.Series(y, index=idx)\n",
    "\n",
    "# Sort the Series by index\n",
    "x_sorted = x.sort_index()\n",
    "y_sorted = y.sort_index()\n",
    "\n",
    "print(np.isnan(y_sorted).any())  # Check for NaN values\n",
    "print(np.isinf(y_sorted).any())  # Check for Inf values"
   ]
  },
  {
   "cell_type": "code",
   "execution_count": 84,
   "id": "b860b8cc-9aee-4d08-8d16-78f7aa295cdd",
   "metadata": {},
   "outputs": [],
   "source": [
    "# If either is 'True' remove the corresponding elements from the 'unique_x' and 'y_sorted' using boolean indexing\n",
    "mask = ~(np.isnan(y_sorted) | np.isinf(y_sorted))\n",
    "unique_x = unique_x[mask]\n",
    "y_sorted = y_sorted[mask]"
   ]
  },
  {
   "cell_type": "markdown",
   "id": "0858e2e4-1210-404e-af41-b657b009dc7e",
   "metadata": {
    "jp-MarkdownHeadingCollapsed": true,
    "tags": []
   },
   "source": [
    "### It seems that the array unique_x is empty, which causes an IndexError when trying to access its first element. This is most likely because all values in the Age column of the adult_df dataframe were duplicates and were removed by the unique() function. You may want to check if this is the case and consider using a different dataset if you want to explore the relationship between age and place."
   ]
  },
  {
   "cell_type": "code",
   "execution_count": 83,
   "id": "c44a203a-86d5-4b4e-9c92-9e4947d39b56",
   "metadata": {},
   "outputs": [
    {
     "ename": "IndexError",
     "evalue": "index 0 is out of bounds for axis 0 with size 0",
     "output_type": "error",
     "traceback": [
      "\u001b[1;31m---------------------------------------------------------------------------\u001b[0m",
      "\u001b[1;31mIndexError\u001b[0m                                Traceback (most recent call last)",
      "\u001b[1;32m~\\AppData\\Local\\Temp\\ipykernel_1960\\3130511287.py\u001b[0m in \u001b[0;36m<module>\u001b[1;34m\u001b[0m\n\u001b[0;32m      1\u001b[0m \u001b[1;31m# Fit a curve to the data\u001b[0m\u001b[1;33m\u001b[0m\u001b[1;33m\u001b[0m\u001b[0m\n\u001b[1;32m----> 2\u001b[1;33m \u001b[0mspline\u001b[0m \u001b[1;33m=\u001b[0m \u001b[0mmake_interp_spline\u001b[0m\u001b[1;33m(\u001b[0m\u001b[0munique_x\u001b[0m\u001b[1;33m,\u001b[0m \u001b[0my_sorted\u001b[0m\u001b[1;33m)\u001b[0m\u001b[1;33m\u001b[0m\u001b[1;33m\u001b[0m\u001b[0m\n\u001b[0m\u001b[0;32m      3\u001b[0m \u001b[0mx_smooth\u001b[0m \u001b[1;33m=\u001b[0m \u001b[0mnp\u001b[0m\u001b[1;33m.\u001b[0m\u001b[0mlinspace\u001b[0m\u001b[1;33m(\u001b[0m\u001b[0mx_sorted\u001b[0m\u001b[1;33m.\u001b[0m\u001b[0mmin\u001b[0m\u001b[1;33m(\u001b[0m\u001b[1;33m)\u001b[0m\u001b[1;33m,\u001b[0m \u001b[0mx_sorted\u001b[0m\u001b[1;33m.\u001b[0m\u001b[0mmax\u001b[0m\u001b[1;33m(\u001b[0m\u001b[1;33m)\u001b[0m\u001b[1;33m,\u001b[0m \u001b[1;36m100\u001b[0m\u001b[1;33m)\u001b[0m\u001b[1;33m\u001b[0m\u001b[1;33m\u001b[0m\u001b[0m\n\u001b[0;32m      4\u001b[0m \u001b[0my_smooth\u001b[0m \u001b[1;33m=\u001b[0m \u001b[0mspline\u001b[0m\u001b[1;33m(\u001b[0m\u001b[0mx_smooth\u001b[0m\u001b[1;33m)\u001b[0m\u001b[1;33m\u001b[0m\u001b[1;33m\u001b[0m\u001b[0m\n\u001b[0;32m      5\u001b[0m \u001b[1;33m\u001b[0m\u001b[0m\n",
      "\u001b[1;32m~\\anaconda3\\lib\\site-packages\\scipy\\interpolate\\_bsplines.py\u001b[0m in \u001b[0;36mmake_interp_spline\u001b[1;34m(x, y, k, t, bc_type, axis, check_finite)\u001b[0m\n\u001b[0;32m   1284\u001b[0m                            (x[-1],)*(k+1)]\n\u001b[0;32m   1285\u001b[0m             \u001b[1;32melse\u001b[0m\u001b[1;33m:\u001b[0m\u001b[1;33m\u001b[0m\u001b[1;33m\u001b[0m\u001b[0m\n\u001b[1;32m-> 1286\u001b[1;33m                 \u001b[0mt\u001b[0m \u001b[1;33m=\u001b[0m \u001b[0m_not_a_knot\u001b[0m\u001b[1;33m(\u001b[0m\u001b[0mx\u001b[0m\u001b[1;33m,\u001b[0m \u001b[0mk\u001b[0m\u001b[1;33m)\u001b[0m\u001b[1;33m\u001b[0m\u001b[1;33m\u001b[0m\u001b[0m\n\u001b[0m\u001b[0;32m   1287\u001b[0m         \u001b[1;32melse\u001b[0m\u001b[1;33m:\u001b[0m\u001b[1;33m\u001b[0m\u001b[1;33m\u001b[0m\u001b[0m\n\u001b[0;32m   1288\u001b[0m             \u001b[0mt\u001b[0m \u001b[1;33m=\u001b[0m \u001b[0m_augknt\u001b[0m\u001b[1;33m(\u001b[0m\u001b[0mx\u001b[0m\u001b[1;33m,\u001b[0m \u001b[0mk\u001b[0m\u001b[1;33m)\u001b[0m\u001b[1;33m\u001b[0m\u001b[1;33m\u001b[0m\u001b[0m\n",
      "\u001b[1;32m~\\anaconda3\\lib\\site-packages\\scipy\\interpolate\\_bsplines.py\u001b[0m in \u001b[0;36m_not_a_knot\u001b[1;34m(x, k)\u001b[0m\n\u001b[0;32m    804\u001b[0m     \u001b[0mm\u001b[0m \u001b[1;33m=\u001b[0m \u001b[1;33m(\u001b[0m\u001b[0mk\u001b[0m \u001b[1;33m-\u001b[0m \u001b[1;36m1\u001b[0m\u001b[1;33m)\u001b[0m \u001b[1;33m//\u001b[0m \u001b[1;36m2\u001b[0m\u001b[1;33m\u001b[0m\u001b[1;33m\u001b[0m\u001b[0m\n\u001b[0;32m    805\u001b[0m     \u001b[0mt\u001b[0m \u001b[1;33m=\u001b[0m \u001b[0mx\u001b[0m\u001b[1;33m[\u001b[0m\u001b[0mm\u001b[0m\u001b[1;33m+\u001b[0m\u001b[1;36m1\u001b[0m\u001b[1;33m:\u001b[0m\u001b[1;33m-\u001b[0m\u001b[0mm\u001b[0m\u001b[1;33m-\u001b[0m\u001b[1;36m1\u001b[0m\u001b[1;33m]\u001b[0m\u001b[1;33m\u001b[0m\u001b[1;33m\u001b[0m\u001b[0m\n\u001b[1;32m--> 806\u001b[1;33m     \u001b[0mt\u001b[0m \u001b[1;33m=\u001b[0m \u001b[0mnp\u001b[0m\u001b[1;33m.\u001b[0m\u001b[0mr_\u001b[0m\u001b[1;33m[\u001b[0m\u001b[1;33m(\u001b[0m\u001b[0mx\u001b[0m\u001b[1;33m[\u001b[0m\u001b[1;36m0\u001b[0m\u001b[1;33m]\u001b[0m\u001b[1;33m,\u001b[0m\u001b[1;33m)\u001b[0m\u001b[1;33m*\u001b[0m\u001b[1;33m(\u001b[0m\u001b[0mk\u001b[0m\u001b[1;33m+\u001b[0m\u001b[1;36m1\u001b[0m\u001b[1;33m)\u001b[0m\u001b[1;33m,\u001b[0m \u001b[0mt\u001b[0m\u001b[1;33m,\u001b[0m \u001b[1;33m(\u001b[0m\u001b[0mx\u001b[0m\u001b[1;33m[\u001b[0m\u001b[1;33m-\u001b[0m\u001b[1;36m1\u001b[0m\u001b[1;33m]\u001b[0m\u001b[1;33m,\u001b[0m\u001b[1;33m)\u001b[0m\u001b[1;33m*\u001b[0m\u001b[1;33m(\u001b[0m\u001b[0mk\u001b[0m\u001b[1;33m+\u001b[0m\u001b[1;36m1\u001b[0m\u001b[1;33m)\u001b[0m\u001b[1;33m]\u001b[0m\u001b[1;33m\u001b[0m\u001b[1;33m\u001b[0m\u001b[0m\n\u001b[0m\u001b[0;32m    807\u001b[0m     \u001b[1;32mreturn\u001b[0m \u001b[0mt\u001b[0m\u001b[1;33m\u001b[0m\u001b[1;33m\u001b[0m\u001b[0m\n\u001b[0;32m    808\u001b[0m \u001b[1;33m\u001b[0m\u001b[0m\n",
      "\u001b[1;31mIndexError\u001b[0m: index 0 is out of bounds for axis 0 with size 0"
     ]
    }
   ],
   "source": [
    "# Fit a curve to the data\n",
    "spline = make_interp_spline(unique_x, y_sorted)\n",
    "x_smooth = np.linspace(x_sorted.min(), x_sorted.max(), 100)\n",
    "y_smooth = spline(x_smooth)\n",
    "\n",
    "# Plot the scatter plot and the smooth curve\n",
    "plt.scatter(x, y)\n",
    "plt.plot(x_smooth, y_smooth)\n",
    "\n",
    "# Show the plot\n",
    "plt.show()"
   ]
  },
  {
   "cell_type": "code",
   "execution_count": 68,
   "id": "f16a9ca9-1e94-40e7-aa20-ce75fc902eae",
   "metadata": {},
   "outputs": [
    {
     "data": {
      "text/plain": [
       "count    100.000000\n",
       "mean      26.090000\n",
       "std        4.062877\n",
       "min       18.000000\n",
       "25%       23.000000\n",
       "50%       26.000000\n",
       "75%       28.000000\n",
       "max       40.000000\n",
       "Name: Age, dtype: float64"
      ]
     },
     "execution_count": 68,
     "metadata": {},
     "output_type": "execute_result"
    }
   ],
   "source": [
    "top_hundred.Age.describe()"
   ]
  },
  {
   "cell_type": "code",
   "execution_count": 69,
   "id": "1cb73e91-49fe-4897-9cdb-f374d7f42282",
   "metadata": {},
   "outputs": [
    {
     "data": {
      "text/plain": [
       "count    10.00000\n",
       "mean     28.10000\n",
       "std       3.28126\n",
       "min      25.00000\n",
       "25%      26.00000\n",
       "50%      27.00000\n",
       "75%      29.50000\n",
       "max      35.00000\n",
       "Name: Age, dtype: float64"
      ]
     },
     "execution_count": 69,
     "metadata": {},
     "output_type": "execute_result"
    }
   ],
   "source": [
    "top_ten = adult_df[adult_df.Place <= 10]\n",
    "top_ten.Age.describe()"
   ]
  },
  {
   "cell_type": "markdown",
   "id": "ab35e4cd-1c3f-4268-802a-b56447f7efef",
   "metadata": {},
   "source": [
    "## Parse html for seasons bests"
   ]
  },
  {
   "cell_type": "code",
   "execution_count": 18,
   "id": "9c49ef98-6662-4368-be39-858a4b435d33",
   "metadata": {},
   "outputs": [
    {
     "data": {
      "text/plain": [
       "[]"
      ]
     },
     "execution_count": 18,
     "metadata": {},
     "output_type": "execute_result"
    }
   ],
   "source": [
    "# import requests\n",
    "# from bs4 import BeautifulSoup\n",
    "# import pandas as pd\n",
    "\n",
    "# Define the base URL and parameters for the rankings page\n",
    "base_url = 'https://worldathletics.org'\n",
    "params = {\n",
    "    'regionType': 'world',\n",
    "    'page': 1,\n",
    "    'rankDate': '2023-05-09',\n",
    "    'limitByCountry': 0,\n",
    "    'eventId': '4f558bc9-9b95-4b5a-b80a-4d0f381bffb2',  # Javelin throw event ID\n",
    "}\n",
    "\n",
    "# Send a GET request to the rankings page and parse the response with BeautifulSoup\n",
    "response = requests.get(base_url + '/world-rankings/javelin-throw/men', params=params)\n",
    "soup = soup(response.content, 'html.parser')\n",
    "soup"
   ]
  },
  {
   "cell_type": "code",
   "execution_count": null,
   "id": "87408b63-d54f-4691-8c42-a9d546d4507a",
   "metadata": {},
   "outputs": [],
   "source": [
    "### Note: website was not scraped successfully. print(soup) yielded empty list."
   ]
  },
  {
   "cell_type": "code",
   "execution_count": 17,
   "id": "62eb3760-a492-4e71-8f04-7b886e3065db",
   "metadata": {},
   "outputs": [
    {
     "ename": "AttributeError",
     "evalue": "'NoneType' object has no attribute 'find_all'",
     "output_type": "error",
     "traceback": [
      "\u001b[1;31m---------------------------------------------------------------------------\u001b[0m",
      "\u001b[1;31mAttributeError\u001b[0m                            Traceback (most recent call last)",
      "\u001b[1;32m~\\AppData\\Local\\Temp\\ipykernel_1960\\849126970.py\u001b[0m in \u001b[0;36m<module>\u001b[1;34m\u001b[0m\n\u001b[0;32m     20\u001b[0m \u001b[0mathlete_links\u001b[0m \u001b[1;33m=\u001b[0m \u001b[1;33m[\u001b[0m\u001b[1;33m]\u001b[0m\u001b[1;33m\u001b[0m\u001b[1;33m\u001b[0m\u001b[0m\n\u001b[0;32m     21\u001b[0m \u001b[0mtable\u001b[0m \u001b[1;33m=\u001b[0m \u001b[0msoup\u001b[0m\u001b[1;33m.\u001b[0m\u001b[0mfind\u001b[0m\u001b[1;33m(\u001b[0m\u001b[1;34m'table'\u001b[0m\u001b[1;33m,\u001b[0m \u001b[1;33m{\u001b[0m\u001b[1;34m'class'\u001b[0m\u001b[1;33m:\u001b[0m \u001b[1;34m'table-athletes'\u001b[0m\u001b[1;33m}\u001b[0m\u001b[1;33m)\u001b[0m\u001b[1;33m\u001b[0m\u001b[1;33m\u001b[0m\u001b[0m\n\u001b[1;32m---> 22\u001b[1;33m \u001b[1;32mfor\u001b[0m \u001b[0mrow\u001b[0m \u001b[1;32min\u001b[0m \u001b[0mtable\u001b[0m\u001b[1;33m.\u001b[0m\u001b[0mfind_all\u001b[0m\u001b[1;33m(\u001b[0m\u001b[1;34m'tr'\u001b[0m\u001b[1;33m)\u001b[0m\u001b[1;33m:\u001b[0m\u001b[1;33m\u001b[0m\u001b[1;33m\u001b[0m\u001b[0m\n\u001b[0m\u001b[0;32m     23\u001b[0m     \u001b[0mcells\u001b[0m \u001b[1;33m=\u001b[0m \u001b[0mrow\u001b[0m\u001b[1;33m.\u001b[0m\u001b[0mfind_all\u001b[0m\u001b[1;33m(\u001b[0m\u001b[1;34m'td'\u001b[0m\u001b[1;33m)\u001b[0m\u001b[1;33m\u001b[0m\u001b[1;33m\u001b[0m\u001b[0m\n\u001b[0;32m     24\u001b[0m     \u001b[1;32mif\u001b[0m \u001b[0mcells\u001b[0m\u001b[1;33m:\u001b[0m\u001b[1;33m\u001b[0m\u001b[1;33m\u001b[0m\u001b[0m\n",
      "\u001b[1;31mAttributeError\u001b[0m: 'NoneType' object has no attribute 'find_all'"
     ]
    }
   ],
   "source": [
    "# Find the table of athletes and loop through each row to extract the athlete's profile link\n",
    "athlete_links = []\n",
    "table = soup.find('table', {'class': 'table-athletes'})\n",
    "for row in table.find_all('tr'):\n",
    "    cells = row.find_all('td')\n",
    "    if cells:\n",
    "        link = cells[1].find('a')['href']\n",
    "        athlete_links.append(link)\n",
    "\n",
    "# Loop through each athlete's profile page and extract their season's best throw\n",
    "season_bests = []\n",
    "for link in athlete_links:\n",
    "    response = requests.get(base_url + link)\n",
    "    soup = BeautifulSoup(response.content, 'html.parser')\n",
    "    results_table = soup.find('table', {'class': 'table-res'})\n",
    "    season_bests.append(results_table.find_all('td', {'class': 'seasonBest'})[0].text)\n",
    "\n",
    "# Create a pandas DataFrame with the athlete's name and season's best throw\n",
    "df = pd.DataFrame({'Name': [link.split('/')[-1] for link in athlete_links], 'Season Best': season_bests})"
   ]
  }
 ],
 "metadata": {
  "kernelspec": {
   "display_name": "Python 3 (ipykernel)",
   "language": "python",
   "name": "python3"
  },
  "language_info": {
   "codemirror_mode": {
    "name": "ipython",
    "version": 3
   },
   "file_extension": ".py",
   "mimetype": "text/x-python",
   "name": "python",
   "nbconvert_exporter": "python",
   "pygments_lexer": "ipython3",
   "version": "3.9.13"
  }
 },
 "nbformat": 4,
 "nbformat_minor": 5
}
