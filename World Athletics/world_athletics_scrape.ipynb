{
 "cells": [
  {
   "cell_type": "markdown",
   "metadata": {},
   "source": [
    "# World Athletics"
   ]
  },
  {
   "cell_type": "code",
   "execution_count": 1,
   "metadata": {},
   "outputs": [],
   "source": [
    "# Import Splinter and BeautifulSoup\n",
    "from splinter import Browser\n",
    "from bs4 import BeautifulSoup as soup\n",
    "import pandas as pd\n",
    "import datetime "
   ]
  },
  {
   "cell_type": "code",
   "execution_count": 2,
   "metadata": {},
   "outputs": [],
   "source": [
    "# Set up Splinter\n",
    "browser = Browser('chrome')"
   ]
  },
  {
   "cell_type": "code",
   "execution_count": 3,
   "metadata": {},
   "outputs": [],
   "source": [
    "url = 'https://worldathletics.org/world-rankings/javelin-throw/men?regionType=world&page=1&rankDate=2023-05-09&limitByCountry=0'\n",
    "browser.visit(url)"
   ]
  },
  {
   "cell_type": "code",
   "execution_count": 4,
   "metadata": {},
   "outputs": [],
   "source": [
    "pages = []\n",
    "for i in range(1,6):\n",
    "    tables = pd.read_html(f'https://worldathletics.org/world-rankings/javelin-throw/men?regionType=world&page={i}&rankDate=2023-05-09&limitByCountry=0')\n",
    "    pages.append(tables)\n",
    "\n",
    "frame = pd.DataFrame()\n",
    "for page in pages:\n",
    "    frame = pd.concat([frame,page[0]],axis=0)"
   ]
  },
  {
   "cell_type": "code",
   "execution_count": 5,
   "metadata": {},
   "outputs": [
    {
     "data": {
      "text/html": [
       "<div>\n",
       "<style scoped>\n",
       "    .dataframe tbody tr th:only-of-type {\n",
       "        vertical-align: middle;\n",
       "    }\n",
       "\n",
       "    .dataframe tbody tr th {\n",
       "        vertical-align: top;\n",
       "    }\n",
       "\n",
       "    .dataframe thead th {\n",
       "        text-align: right;\n",
       "    }\n",
       "</style>\n",
       "<table border=\"1\" class=\"dataframe\">\n",
       "  <thead>\n",
       "    <tr style=\"text-align: right;\">\n",
       "      <th></th>\n",
       "      <th>Place</th>\n",
       "      <th>Competitor</th>\n",
       "      <th>DOB</th>\n",
       "      <th>Nat</th>\n",
       "      <th>Score</th>\n",
       "      <th>Event List</th>\n",
       "    </tr>\n",
       "  </thead>\n",
       "  <tbody>\n",
       "    <tr>\n",
       "      <th>0</th>\n",
       "      <td>1</td>\n",
       "      <td>Anderson PETERS</td>\n",
       "      <td>21 OCT 1997</td>\n",
       "      <td>GRN</td>\n",
       "      <td>1461</td>\n",
       "      <td>Javelin Throw</td>\n",
       "    </tr>\n",
       "    <tr>\n",
       "      <th>1</th>\n",
       "      <td>2</td>\n",
       "      <td>Neeraj CHOPRA</td>\n",
       "      <td>24 DEC 1997</td>\n",
       "      <td>IND</td>\n",
       "      <td>1455</td>\n",
       "      <td>Javelin Throw</td>\n",
       "    </tr>\n",
       "    <tr>\n",
       "      <th>2</th>\n",
       "      <td>3</td>\n",
       "      <td>Jakub VADLEJCH</td>\n",
       "      <td>10 OCT 1990</td>\n",
       "      <td>CZE</td>\n",
       "      <td>1428</td>\n",
       "      <td>Javelin Throw</td>\n",
       "    </tr>\n",
       "    <tr>\n",
       "      <th>3</th>\n",
       "      <td>4</td>\n",
       "      <td>Julian WEBER</td>\n",
       "      <td>29 AUG 1994</td>\n",
       "      <td>GER</td>\n",
       "      <td>1385</td>\n",
       "      <td>Javelin Throw</td>\n",
       "    </tr>\n",
       "    <tr>\n",
       "      <th>4</th>\n",
       "      <td>5</td>\n",
       "      <td>Arshad NADEEM</td>\n",
       "      <td>02 JAN 1997</td>\n",
       "      <td>PAK</td>\n",
       "      <td>1306</td>\n",
       "      <td>Javelin Throw</td>\n",
       "    </tr>\n",
       "    <tr>\n",
       "      <th>...</th>\n",
       "      <td>...</td>\n",
       "      <td>...</td>\n",
       "      <td>...</td>\n",
       "      <td>...</td>\n",
       "      <td>...</td>\n",
       "      <td>...</td>\n",
       "    </tr>\n",
       "    <tr>\n",
       "      <th>95</th>\n",
       "      <td>496</td>\n",
       "      <td>Tomonori MORISAWA</td>\n",
       "      <td>14 DEC 2005</td>\n",
       "      <td>JPN</td>\n",
       "      <td>826</td>\n",
       "      <td>Javelin Throw</td>\n",
       "    </tr>\n",
       "    <tr>\n",
       "      <th>96</th>\n",
       "      <td>497</td>\n",
       "      <td>Thibaud DUTREY</td>\n",
       "      <td>13 FEB 2000</td>\n",
       "      <td>FRA</td>\n",
       "      <td>826</td>\n",
       "      <td>Javelin Throw</td>\n",
       "    </tr>\n",
       "    <tr>\n",
       "      <th>97</th>\n",
       "      <td>498</td>\n",
       "      <td>Kazuhisa MATSUSHIMA</td>\n",
       "      <td>27 FEB 2001</td>\n",
       "      <td>JPN</td>\n",
       "      <td>826</td>\n",
       "      <td>Javelin Throw</td>\n",
       "    </tr>\n",
       "    <tr>\n",
       "      <th>98</th>\n",
       "      <td>499</td>\n",
       "      <td>Shota KOMATSU</td>\n",
       "      <td>11 OCT 2002</td>\n",
       "      <td>JPN</td>\n",
       "      <td>826</td>\n",
       "      <td>Javelin Throw</td>\n",
       "    </tr>\n",
       "    <tr>\n",
       "      <th>99</th>\n",
       "      <td>500</td>\n",
       "      <td>Martin JANCSIK</td>\n",
       "      <td>06 JAN 2004</td>\n",
       "      <td>HUN</td>\n",
       "      <td>826</td>\n",
       "      <td>Javelin Throw</td>\n",
       "    </tr>\n",
       "  </tbody>\n",
       "</table>\n",
       "<p>500 rows × 6 columns</p>\n",
       "</div>"
      ],
      "text/plain": [
       "    Place           Competitor          DOB  Nat  Score     Event List\n",
       "0       1      Anderson PETERS  21 OCT 1997  GRN   1461  Javelin Throw\n",
       "1       2        Neeraj CHOPRA  24 DEC 1997  IND   1455  Javelin Throw\n",
       "2       3       Jakub VADLEJCH  10 OCT 1990  CZE   1428  Javelin Throw\n",
       "3       4         Julian WEBER  29 AUG 1994  GER   1385  Javelin Throw\n",
       "4       5        Arshad NADEEM  02 JAN 1997  PAK   1306  Javelin Throw\n",
       "..    ...                  ...          ...  ...    ...            ...\n",
       "95    496    Tomonori MORISAWA  14 DEC 2005  JPN    826  Javelin Throw\n",
       "96    497       Thibaud DUTREY  13 FEB 2000  FRA    826  Javelin Throw\n",
       "97    498  Kazuhisa MATSUSHIMA  27 FEB 2001  JPN    826  Javelin Throw\n",
       "98    499        Shota KOMATSU  11 OCT 2002  JPN    826  Javelin Throw\n",
       "99    500       Martin JANCSIK  06 JAN 2004  HUN    826  Javelin Throw\n",
       "\n",
       "[500 rows x 6 columns]"
      ]
     },
     "execution_count": 5,
     "metadata": {},
     "output_type": "execute_result"
    }
   ],
   "source": [
    "frame"
   ]
  },
  {
   "cell_type": "code",
   "execution_count": 6,
   "metadata": {},
   "outputs": [
    {
     "data": {
      "text/plain": [
       "Place          int64\n",
       "Competitor    object\n",
       "DOB           object\n",
       "Nat           object\n",
       "Score          int64\n",
       "Event List    object\n",
       "dtype: object"
      ]
     },
     "execution_count": 6,
     "metadata": {},
     "output_type": "execute_result"
    }
   ],
   "source": [
    "frame.dtypes"
   ]
  },
  {
   "cell_type": "code",
   "execution_count": 7,
   "metadata": {},
   "outputs": [
    {
     "data": {
      "text/plain": [
       "0     21 OCT 1997\n",
       "1     24 DEC 1997\n",
       "2     10 OCT 1990\n",
       "3     29 AUG 1994\n",
       "4     02 JAN 1997\n",
       "         ...     \n",
       "95    14 DEC 2005\n",
       "96    13 FEB 2000\n",
       "97    27 FEB 2001\n",
       "98    11 OCT 2002\n",
       "99    06 JAN 2004\n",
       "Name: DOB, Length: 500, dtype: object"
      ]
     },
     "execution_count": 7,
     "metadata": {},
     "output_type": "execute_result"
    }
   ],
   "source": [
    "frame.DOB"
   ]
  },
  {
   "cell_type": "markdown",
   "metadata": {},
   "source": [
    "### Calculate age with datetime and DOB variable"
   ]
  },
  {
   "cell_type": "code",
   "execution_count": null,
   "metadata": {},
   "outputs": [],
   "source": [
    "https://docs.python.org/3/library/datetime.html"
   ]
  },
  {
   "cell_type": "code",
   "execution_count": null,
   "metadata": {},
   "outputs": [],
   "source": []
  }
 ],
 "metadata": {
  "kernelspec": {
   "display_name": "Python 3 (ipykernel)",
   "language": "python",
   "name": "python3"
  },
  "language_info": {
   "codemirror_mode": {
    "name": "ipython",
    "version": 3
   },
   "file_extension": ".py",
   "mimetype": "text/x-python",
   "name": "python",
   "nbconvert_exporter": "python",
   "pygments_lexer": "ipython3",
   "version": "3.9.13"
  },
  "vscode": {
   "interpreter": {
    "hash": "31f2aee4e71d21fbe5cf8b01ff0e069b9275f58929596ceb00d14d90e3e16cd6"
   }
  }
 },
 "nbformat": 4,
 "nbformat_minor": 4
}
