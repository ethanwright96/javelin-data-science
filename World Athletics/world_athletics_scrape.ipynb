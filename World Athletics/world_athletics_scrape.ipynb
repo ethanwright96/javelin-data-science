{
 "cells": [
  {
   "cell_type": "markdown",
   "metadata": {},
   "source": [
    "# World Athletics"
   ]
  },
  {
   "cell_type": "code",
   "execution_count": 1,
   "metadata": {},
   "outputs": [],
   "source": [
    "# Import Splinter and BeautifulSoup\n",
    "from splinter import Browser\n",
    "from bs4 import BeautifulSoup as soup"
   ]
  },
  {
   "cell_type": "code",
   "execution_count": 2,
   "metadata": {},
   "outputs": [],
   "source": [
    "# Set up Splinter\n",
    "browser = Browser('chrome')"
   ]
  },
  {
   "cell_type": "code",
   "execution_count": 3,
   "metadata": {},
   "outputs": [
    {
     "data": {
      "text/plain": [
       "False"
      ]
     },
     "execution_count": 3,
     "metadata": {},
     "output_type": "execute_result"
    }
   ],
   "source": [
    "# Visit the Mars NASA news site\n",
    "url = 'https://worldathletics.org/athletes-home?disciplineCode=JT&gender=male&environment=outdoor'\n",
    "browser.visit(url)\n",
    "# Optional delay for loading the page\n",
    "browser.is_element_present_by_css('div.list_text', wait_time=1)"
   ]
  },
  {
   "cell_type": "code",
   "execution_count": 4,
   "metadata": {},
   "outputs": [],
   "source": [
    "# Scrape the website\n",
    "html = browser.html\n",
    "\n",
    "# Create a BeautifulSoup object from the scraped HTML\n",
    "javelin_soup = soup(html, 'html.parser')"
   ]
  },
  {
   "cell_type": "code",
   "execution_count": 5,
   "metadata": {},
   "outputs": [
    {
     "data": {
      "text/plain": [
       "'PETERS Anderson '"
      ]
     },
     "execution_count": 5,
     "metadata": {},
     "output_type": "execute_result"
    }
   ],
   "source": [
    "# Select first athlete from the table\n",
    "first_athlete = javelin_soup.find('td')\n",
    "first_athlete.text"
   ]
  },
  {
   "cell_type": "code",
   "execution_count": null,
   "metadata": {},
   "outputs": [],
   "source": [
    "# Select all athletes in table\n",
    "athletes = javelin_soup.find_all('td', class_=\"AthleteSearch_name__2z8I1\")\n",
    "athletes"
   ]
  },
  {
   "cell_type": "code",
   "execution_count": 8,
   "metadata": {},
   "outputs": [
    {
     "name": "stdout",
     "output_type": "stream",
     "text": [
      "PETERS Anderson\n",
      "VADLEJCH Jakub\n",
      "NADEEM Arshad\n",
      "CHOPRA Neeraj\n",
      "HELANDER Oliver\n",
      "WEBER Julian\n",
      "WALCOTT Keshorn\n",
      "THOMPSON Curtis\n",
      "HOFMANN Andreas\n",
      "ETELÄTALO Lassi\n",
      "VESELÝ Vítězslav\n",
      "YEGO Julius\n",
      "VETTER Johannes\n",
      "KATKAVETS Aliaksei\n",
      "MARDARE Andrian\n",
      "RAMOS Leandro\n",
      "MANU D.P\n",
      "FELFNER Artur\n",
      "STRACHAN Keyshawn\n",
      "KUUSELA Toni\n",
      "RODRIGUES Pedro Henrique\n",
      "ČAKŠS Gatis\n",
      "GAILUMS Patriks\n",
      "SAKIYAMA Yuta\n",
      "ABDELRAHMAN Ihab\n",
      "BEZDOLNIY Boris\n",
      "QUIJERA Manu\n",
      "ARAI Ryohei\n",
      "NOVAC Alexandru Mihaita\n",
      "DABBS Ethan\n"
     ]
    }
   ],
   "source": [
    "for athlete in athletes:\n",
    "    print(athlete.text.strip())"
   ]
  },
  {
   "cell_type": "code",
   "execution_count": 9,
   "metadata": {},
   "outputs": [
    {
     "data": {
      "text/plain": [
       "['PETERS Anderson',\n",
       " 'VADLEJCH Jakub',\n",
       " 'NADEEM Arshad',\n",
       " 'CHOPRA Neeraj',\n",
       " 'HELANDER Oliver',\n",
       " 'WEBER Julian',\n",
       " 'WALCOTT Keshorn',\n",
       " 'THOMPSON Curtis',\n",
       " 'HOFMANN Andreas',\n",
       " 'ETELÄTALO Lassi',\n",
       " 'VESELÝ Vítězslav',\n",
       " 'YEGO Julius',\n",
       " 'VETTER Johannes',\n",
       " 'KATKAVETS Aliaksei',\n",
       " 'MARDARE Andrian',\n",
       " 'RAMOS Leandro',\n",
       " 'MANU D.P',\n",
       " 'FELFNER Artur',\n",
       " 'STRACHAN Keyshawn',\n",
       " 'KUUSELA Toni',\n",
       " 'RODRIGUES Pedro Henrique',\n",
       " 'ČAKŠS Gatis',\n",
       " 'GAILUMS Patriks',\n",
       " 'SAKIYAMA Yuta',\n",
       " 'ABDELRAHMAN Ihab',\n",
       " 'BEZDOLNIY Boris',\n",
       " 'QUIJERA Manu',\n",
       " 'ARAI Ryohei',\n",
       " 'NOVAC Alexandru Mihaita',\n",
       " 'DABBS Ethan']"
      ]
     },
     "execution_count": 9,
     "metadata": {},
     "output_type": "execute_result"
    }
   ],
   "source": [
    "list_of_athletes = []\n",
    "for athlete in athletes:\n",
    "    list_of_athletes.append(athlete.text.strip())\n",
    "list_of_athletes"
   ]
  },
  {
   "cell_type": "code",
   "execution_count": 20,
   "metadata": {},
   "outputs": [
    {
     "data": {
      "text/plain": [
       "'Peters'"
      ]
     },
     "execution_count": 20,
     "metadata": {},
     "output_type": "execute_result"
    }
   ],
   "source": [
    "# Get the first of the two words in the athlete name str (last name)\n",
    "list_of_athletes[0].split(' ', 1)[0].title()"
   ]
  },
  {
   "cell_type": "code",
   "execution_count": 21,
   "metadata": {},
   "outputs": [
    {
     "data": {
      "text/plain": [
       "'Anderson'"
      ]
     },
     "execution_count": 21,
     "metadata": {},
     "output_type": "execute_result"
    }
   ],
   "source": [
    "# Get the second of the two words in the athlete name str (first name)\n",
    "list_of_athletes[0].split(' ', 1)[1].title()"
   ]
  },
  {
   "cell_type": "code",
   "execution_count": 10,
   "metadata": {},
   "outputs": [
    {
     "data": {
      "text/plain": [
       "['Peters',\n",
       " 'Vadlejch',\n",
       " 'Nadeem',\n",
       " 'Chopra',\n",
       " 'Helander',\n",
       " 'Weber',\n",
       " 'Walcott',\n",
       " 'Thompson',\n",
       " 'Hofmann',\n",
       " 'Etelätalo',\n",
       " 'Veselý',\n",
       " 'Yego',\n",
       " 'Vetter',\n",
       " 'Katkavets',\n",
       " 'Mardare',\n",
       " 'Ramos',\n",
       " 'Manu',\n",
       " 'Felfner',\n",
       " 'Strachan',\n",
       " 'Kuusela',\n",
       " 'Rodrigues',\n",
       " 'Čakšs',\n",
       " 'Gailums',\n",
       " 'Sakiyama',\n",
       " 'Abdelrahman',\n",
       " 'Bezdolniy',\n",
       " 'Quijera',\n",
       " 'Arai',\n",
       " 'Novac',\n",
       " 'Dabbs']"
      ]
     },
     "execution_count": 10,
     "metadata": {},
     "output_type": "execute_result"
    }
   ],
   "source": [
    "last_names = []\n",
    "for name in list_of_athletes:\n",
    "    last_names.append(name.split(' ', 1)[0].title())\n",
    "    first_names.append(name.split(' ', 1)[1].title())"
   ]
  },
  {
   "cell_type": "code",
   "execution_count": 32,
   "metadata": {},
   "outputs": [
    {
     "data": {
      "text/plain": [
       "[<td class=\"AthleteSearch_hide__GW_jd\"><span class=\"Flags_container__3W63l Flags_flagsContainer__3pNoW\"><span class=\"Flags_name__28uFw\">GRN</span><i class=\"Flags_icon__3Uv11 icon-flag-GRN\"></i></span></td>,\n",
       " <td class=\"AthleteSearch_hide__GW_jd\">21 OCT 1997</td>,\n",
       " <td class=\"AthleteSearch_hide__GW_jd\"><span class=\"Flags_container__3W63l Flags_flagsContainer__3pNoW\"><span class=\"Flags_name__28uFw\">CZE</span><i class=\"Flags_icon__3Uv11 icon-flag-CZE\"></i></span></td>,\n",
       " <td class=\"AthleteSearch_hide__GW_jd\">10 OCT 1990</td>,\n",
       " <td class=\"AthleteSearch_hide__GW_jd\"><span class=\"Flags_container__3W63l Flags_flagsContainer__3pNoW\"><span class=\"Flags_name__28uFw\">PAK</span><i class=\"Flags_icon__3Uv11 icon-flag-PAK\"></i></span></td>,\n",
       " <td class=\"AthleteSearch_hide__GW_jd\">02 JAN 1997</td>,\n",
       " <td class=\"AthleteSearch_hide__GW_jd\"><span class=\"Flags_container__3W63l Flags_flagsContainer__3pNoW\"><span class=\"Flags_name__28uFw\">IND</span><i class=\"Flags_icon__3Uv11 icon-flag-IND\"></i></span></td>,\n",
       " <td class=\"AthleteSearch_hide__GW_jd\">24 DEC 1997</td>,\n",
       " <td class=\"AthleteSearch_hide__GW_jd\"><span class=\"Flags_container__3W63l Flags_flagsContainer__3pNoW\"><span class=\"Flags_name__28uFw\">FIN</span><i class=\"Flags_icon__3Uv11 icon-flag-FIN\"></i></span></td>,\n",
       " <td class=\"AthleteSearch_hide__GW_jd\">01 JAN 1997</td>,\n",
       " <td class=\"AthleteSearch_hide__GW_jd\"><span class=\"Flags_container__3W63l Flags_flagsContainer__3pNoW\"><span class=\"Flags_name__28uFw\">GER</span><i class=\"Flags_icon__3Uv11 icon-flag-GER\"></i></span></td>,\n",
       " <td class=\"AthleteSearch_hide__GW_jd\">29 AUG 1994</td>,\n",
       " <td class=\"AthleteSearch_hide__GW_jd\"><span class=\"Flags_container__3W63l Flags_flagsContainer__3pNoW\"><span class=\"Flags_name__28uFw\">TTO</span><i class=\"Flags_icon__3Uv11 icon-flag-TTO\"></i></span></td>,\n",
       " <td class=\"AthleteSearch_hide__GW_jd\">02 APR 1993</td>,\n",
       " <td class=\"AthleteSearch_hide__GW_jd\"><span class=\"Flags_container__3W63l Flags_flagsContainer__3pNoW\"><span class=\"Flags_name__28uFw\">USA</span><i class=\"Flags_icon__3Uv11 icon-flag-USA\"></i></span></td>,\n",
       " <td class=\"AthleteSearch_hide__GW_jd\">08 FEB 1996</td>,\n",
       " <td class=\"AthleteSearch_hide__GW_jd\"><span class=\"Flags_container__3W63l Flags_flagsContainer__3pNoW\"><span class=\"Flags_name__28uFw\">GER</span><i class=\"Flags_icon__3Uv11 icon-flag-GER\"></i></span></td>,\n",
       " <td class=\"AthleteSearch_hide__GW_jd\">16 DEC 1991</td>,\n",
       " <td class=\"AthleteSearch_hide__GW_jd\"><span class=\"Flags_container__3W63l Flags_flagsContainer__3pNoW\"><span class=\"Flags_name__28uFw\">FIN</span><i class=\"Flags_icon__3Uv11 icon-flag-FIN\"></i></span></td>,\n",
       " <td class=\"AthleteSearch_hide__GW_jd\">30 APR 1988</td>,\n",
       " <td class=\"AthleteSearch_hide__GW_jd\"><span class=\"Flags_container__3W63l Flags_flagsContainer__3pNoW\"><span class=\"Flags_name__28uFw\">CZE</span><i class=\"Flags_icon__3Uv11 icon-flag-CZE\"></i></span></td>,\n",
       " <td class=\"AthleteSearch_hide__GW_jd\">27 FEB 1983</td>,\n",
       " <td class=\"AthleteSearch_hide__GW_jd\"><span class=\"Flags_container__3W63l Flags_flagsContainer__3pNoW\"><span class=\"Flags_name__28uFw\">KEN</span><i class=\"Flags_icon__3Uv11 icon-flag-KEN\"></i></span></td>,\n",
       " <td class=\"AthleteSearch_hide__GW_jd\">04 JAN 1989</td>,\n",
       " <td class=\"AthleteSearch_hide__GW_jd\"><span class=\"Flags_container__3W63l Flags_flagsContainer__3pNoW\"><span class=\"Flags_name__28uFw\">GER</span><i class=\"Flags_icon__3Uv11 icon-flag-GER\"></i></span></td>,\n",
       " <td class=\"AthleteSearch_hide__GW_jd\">26 MAR 1993</td>,\n",
       " <td class=\"AthleteSearch_hide__GW_jd\"><span class=\"Flags_container__3W63l Flags_flagsContainer__3pNoW\"><span class=\"Flags_name__28uFw\">BLR</span><i class=\"Flags_icon__3Uv11 icon-flag-BLR\"></i></span></td>,\n",
       " <td class=\"AthleteSearch_hide__GW_jd\">07 JUN 1998</td>,\n",
       " <td class=\"AthleteSearch_hide__GW_jd\"><span class=\"Flags_container__3W63l Flags_flagsContainer__3pNoW\"><span class=\"Flags_name__28uFw\">MDA</span><i class=\"Flags_icon__3Uv11 icon-flag-MDA\"></i></span></td>,\n",
       " <td class=\"AthleteSearch_hide__GW_jd\">20 JUN 1995</td>,\n",
       " <td class=\"AthleteSearch_hide__GW_jd\"><span class=\"Flags_container__3W63l Flags_flagsContainer__3pNoW\"><span class=\"Flags_name__28uFw\">POR</span><i class=\"Flags_icon__3Uv11 icon-flag-POR\"></i></span></td>,\n",
       " <td class=\"AthleteSearch_hide__GW_jd\">21 SEP 2000</td>,\n",
       " <td class=\"AthleteSearch_hide__GW_jd\"><span class=\"Flags_container__3W63l Flags_flagsContainer__3pNoW\"><span class=\"Flags_name__28uFw\">IND</span><i class=\"Flags_icon__3Uv11 icon-flag-IND\"></i></span></td>,\n",
       " <td class=\"AthleteSearch_hide__GW_jd\">24 JAN 2000</td>,\n",
       " <td class=\"AthleteSearch_hide__GW_jd\"><span class=\"Flags_container__3W63l Flags_flagsContainer__3pNoW\"><span class=\"Flags_name__28uFw\">UKR</span><i class=\"Flags_icon__3Uv11 icon-flag-UKR\"></i></span></td>,\n",
       " <td class=\"AthleteSearch_hide__GW_jd\">17 OCT 2003</td>,\n",
       " <td class=\"AthleteSearch_hide__GW_jd\"><span class=\"Flags_container__3W63l Flags_flagsContainer__3pNoW\"><span class=\"Flags_name__28uFw\">BAH</span><i class=\"Flags_icon__3Uv11 icon-flag-BAH\"></i></span></td>,\n",
       " <td class=\"AthleteSearch_hide__GW_jd\">18 DEC 2003</td>,\n",
       " <td class=\"AthleteSearch_hide__GW_jd\"><span class=\"Flags_container__3W63l Flags_flagsContainer__3pNoW\"><span class=\"Flags_name__28uFw\">FIN</span><i class=\"Flags_icon__3Uv11 icon-flag-FIN\"></i></span></td>,\n",
       " <td class=\"AthleteSearch_hide__GW_jd\">21 JAN 1994</td>,\n",
       " <td class=\"AthleteSearch_hide__GW_jd\"><span class=\"Flags_container__3W63l Flags_flagsContainer__3pNoW\"><span class=\"Flags_name__28uFw\">BRA</span><i class=\"Flags_icon__3Uv11 icon-flag-BRA\"></i></span></td>,\n",
       " <td class=\"AthleteSearch_hide__GW_jd\">18 JUN 1999</td>,\n",
       " <td class=\"AthleteSearch_hide__GW_jd\"><span class=\"Flags_container__3W63l Flags_flagsContainer__3pNoW\"><span class=\"Flags_name__28uFw\">LAT</span><i class=\"Flags_icon__3Uv11 icon-flag-LAT\"></i></span></td>,\n",
       " <td class=\"AthleteSearch_hide__GW_jd\">13 JUN 1995</td>,\n",
       " <td class=\"AthleteSearch_hide__GW_jd\"><span class=\"Flags_container__3W63l Flags_flagsContainer__3pNoW\"><span class=\"Flags_name__28uFw\">LAT</span><i class=\"Flags_icon__3Uv11 icon-flag-LAT\"></i></span></td>,\n",
       " <td class=\"AthleteSearch_hide__GW_jd\">10 MAY 1998</td>,\n",
       " <td class=\"AthleteSearch_hide__GW_jd\"><span class=\"Flags_container__3W63l Flags_flagsContainer__3pNoW\"><span class=\"Flags_name__28uFw\">JPN</span><i class=\"Flags_icon__3Uv11 icon-flag-JPN\"></i></span></td>,\n",
       " <td class=\"AthleteSearch_hide__GW_jd\">05 APR 1996</td>,\n",
       " <td class=\"AthleteSearch_hide__GW_jd\"><span class=\"Flags_container__3W63l Flags_flagsContainer__3pNoW\"><span class=\"Flags_name__28uFw\">EGY</span><i class=\"Flags_icon__3Uv11 icon-flag-EGY\"></i></span></td>,\n",
       " <td class=\"AthleteSearch_hide__GW_jd\">01 MAY 1989</td>,\n",
       " <td class=\"AthleteSearch_hide__GW_jd\"><span class=\"Flags_container__3W63l Flags_flagsContainer__3pNoW\"><span class=\"Flags_name__28uFw\">RUS</span><i class=\"Flags_icon__3Uv11 icon-flag-RUS\"></i></span></td>,\n",
       " <td class=\"AthleteSearch_hide__GW_jd\">01 APR 1997</td>,\n",
       " <td class=\"AthleteSearch_hide__GW_jd\"><span class=\"Flags_container__3W63l Flags_flagsContainer__3pNoW\"><span class=\"Flags_name__28uFw\">ESP</span><i class=\"Flags_icon__3Uv11 icon-flag-ESP\"></i></span></td>,\n",
       " <td class=\"AthleteSearch_hide__GW_jd\">13 JAN 1998</td>,\n",
       " <td class=\"AthleteSearch_hide__GW_jd\"><span class=\"Flags_container__3W63l Flags_flagsContainer__3pNoW\"><span class=\"Flags_name__28uFw\">JPN</span><i class=\"Flags_icon__3Uv11 icon-flag-JPN\"></i></span></td>,\n",
       " <td class=\"AthleteSearch_hide__GW_jd\">23 JUN 1991</td>,\n",
       " <td class=\"AthleteSearch_hide__GW_jd\"><span class=\"Flags_container__3W63l Flags_flagsContainer__3pNoW\"><span class=\"Flags_name__28uFw\">ROU</span><i class=\"Flags_icon__3Uv11 icon-flag-ROU\"></i></span></td>,\n",
       " <td class=\"AthleteSearch_hide__GW_jd\">24 MAR 1997</td>,\n",
       " <td class=\"AthleteSearch_hide__GW_jd\"><span class=\"Flags_container__3W63l Flags_flagsContainer__3pNoW\"><span class=\"Flags_name__28uFw\">USA</span><i class=\"Flags_icon__3Uv11 icon-flag-USA\"></i></span></td>,\n",
       " <td class=\"AthleteSearch_hide__GW_jd\">23 JUN 1999</td>]"
      ]
     },
     "execution_count": 32,
     "metadata": {},
     "output_type": "execute_result"
    }
   ],
   "source": [
    "# Select ages\n",
    "country_birth = javelin_soup.find_all('td', class_=\"AthleteSearch_hide__GW_jd\")\n",
    "country_birth"
   ]
  },
  {
   "cell_type": "code",
   "execution_count": 37,
   "metadata": {},
   "outputs": [
    {
     "data": {
      "text/plain": [
       "'GRN'"
      ]
     },
     "execution_count": 37,
     "metadata": {},
     "output_type": "execute_result"
    }
   ],
   "source": [
    "country_birth_list = []\n",
    "for i in country_birth:\n",
    "    country_age_list.append(i.text)\n",
    "country_age_list[0]"
   ]
  },
  {
   "cell_type": "code",
   "execution_count": null,
   "metadata": {},
   "outputs": [],
   "source": [
    "country_birth_dict = {}\n",
    "    for i in country_birth:\n",
    "        country_birth_dict[\"country\"] "
   ]
  },
  {
   "cell_type": "code",
   "execution_count": 16,
   "metadata": {},
   "outputs": [
    {
     "ename": "TypeError",
     "evalue": "'NoneType' object is not callable",
     "output_type": "error",
     "traceback": [
      "\u001b[1;31m---------------------------------------------------------------------------\u001b[0m",
      "\u001b[1;31mTypeError\u001b[0m                                 Traceback (most recent call last)",
      "\u001b[1;32m~\\AppData\\Local\\Temp\\ipykernel_26228\\3960702625.py\u001b[0m in \u001b[0;36m<module>\u001b[1;34m\u001b[0m\n\u001b[0;32m      1\u001b[0m \u001b[0mcountry\u001b[0m \u001b[1;33m=\u001b[0m \u001b[1;33m[\u001b[0m\u001b[1;33m]\u001b[0m\u001b[1;33m\u001b[0m\u001b[1;33m\u001b[0m\u001b[0m\n\u001b[0;32m      2\u001b[0m \u001b[1;32mfor\u001b[0m \u001b[0mage\u001b[0m \u001b[1;32min\u001b[0m \u001b[0mages\u001b[0m\u001b[1;33m:\u001b[0m\u001b[1;33m\u001b[0m\u001b[1;33m\u001b[0m\u001b[0m\n\u001b[1;32m----> 3\u001b[1;33m     \u001b[0mcountry\u001b[0m\u001b[1;33m.\u001b[0m\u001b[0mappend\u001b[0m\u001b[1;33m(\u001b[0m\u001b[0mage\u001b[0m\u001b[1;33m.\u001b[0m\u001b[0msplit\u001b[0m\u001b[1;33m(\u001b[0m\u001b[1;34m' '\u001b[0m\u001b[1;33m,\u001b[0m \u001b[1;36m3\u001b[0m\u001b[1;33m)\u001b[0m\u001b[1;33m[\u001b[0m\u001b[1;36m0\u001b[0m\u001b[1;33m]\u001b[0m\u001b[1;33m)\u001b[0m\u001b[1;33m\u001b[0m\u001b[1;33m\u001b[0m\u001b[0m\n\u001b[0m\u001b[0;32m      4\u001b[0m \u001b[0mcountry\u001b[0m\u001b[1;33m\u001b[0m\u001b[1;33m\u001b[0m\u001b[0m\n",
      "\u001b[1;31mTypeError\u001b[0m: 'NoneType' object is not callable"
     ]
    }
   ],
   "source": [
    "country = []\n",
    "for age in ages:\n",
    "    country.append(age.split(' ', 3)[0])"
   ]
  },
  {
   "cell_type": "code",
   "execution_count": null,
   "metadata": {},
   "outputs": [],
   "source": [
    "# Variables of interest:\n",
    "# 1. Birth Date for Age\n",
    "# 2. "
   ]
  },
  {
   "cell_type": "code",
   "execution_count": 10,
   "metadata": {},
   "outputs": [],
   "source": [
    "# Quit your browsing session\n",
    "browser.quit()"
   ]
  },
  {
   "cell_type": "markdown",
   "metadata": {},
   "source": [
    "### Chat GPT's suggestion:"
   ]
  },
  {
   "cell_type": "code",
   "execution_count": 4,
   "metadata": {},
   "outputs": [
    {
     "name": "stdout",
     "output_type": "stream",
     "text": [
      "Error: table not found\n"
     ]
    },
    {
     "ename": "AttributeError",
     "evalue": "'NoneType' object has no attribute 'find_all'",
     "output_type": "error",
     "traceback": [
      "\u001b[1;31m---------------------------------------------------------------------------\u001b[0m",
      "\u001b[1;31mAttributeError\u001b[0m                            Traceback (most recent call last)",
      "\u001b[1;32m~\\AppData\\Local\\Temp\\ipykernel_11536\\933088478.py\u001b[0m in \u001b[0;36m<module>\u001b[1;34m\u001b[0m\n\u001b[0;32m     11\u001b[0m \u001b[1;33m\u001b[0m\u001b[0m\n\u001b[0;32m     12\u001b[0m \u001b[1;31m# loop through the rows of the table and extract the information for each athlete\u001b[0m\u001b[1;33m\u001b[0m\u001b[1;33m\u001b[0m\u001b[0m\n\u001b[1;32m---> 13\u001b[1;33m \u001b[1;32mfor\u001b[0m \u001b[0mrow\u001b[0m \u001b[1;32min\u001b[0m \u001b[0mtable\u001b[0m\u001b[1;33m.\u001b[0m\u001b[0mfind_all\u001b[0m\u001b[1;33m(\u001b[0m\u001b[1;34m'tr'\u001b[0m\u001b[1;33m)\u001b[0m\u001b[1;33m[\u001b[0m\u001b[1;36m1\u001b[0m\u001b[1;33m:\u001b[0m\u001b[1;33m]\u001b[0m\u001b[1;33m:\u001b[0m\u001b[1;33m\u001b[0m\u001b[1;33m\u001b[0m\u001b[0m\n\u001b[0m\u001b[0;32m     14\u001b[0m     \u001b[1;31m# extract the athlete's name\u001b[0m\u001b[1;33m\u001b[0m\u001b[1;33m\u001b[0m\u001b[0m\n\u001b[0;32m     15\u001b[0m     \u001b[0mname\u001b[0m \u001b[1;33m=\u001b[0m \u001b[0mrow\u001b[0m\u001b[1;33m.\u001b[0m\u001b[0mfind\u001b[0m\u001b[1;33m(\u001b[0m\u001b[1;34m'td'\u001b[0m\u001b[1;33m,\u001b[0m \u001b[1;33m{\u001b[0m\u001b[1;34m'class'\u001b[0m\u001b[1;33m:\u001b[0m \u001b[1;34m'name'\u001b[0m\u001b[1;33m}\u001b[0m\u001b[1;33m)\u001b[0m\u001b[1;33m\u001b[0m\u001b[1;33m\u001b[0m\u001b[0m\n",
      "\u001b[1;31mAttributeError\u001b[0m: 'NoneType' object has no attribute 'find_all'"
     ]
    }
   ],
   "source": [
    "# create a BeautifulSoup object\n",
    "html = browser.html\n",
    "soup = soup(html, 'html.parser')\n",
    "\n",
    "# find the table of javelin throwers\n",
    "table = soup.find('table', {'class': 'wa-table'})\n",
    "if table is None:\n",
    "    print(\"Error: table not found\")\n",
    "    browser.quit()\n",
    "    exit()\n",
    "\n",
    "# loop through the rows of the table and extract the information for each athlete\n",
    "for row in table.find_all('tr')[1:]:\n",
    "    # extract the athlete's name\n",
    "    name = row.find('td', {'class': 'name'})\n",
    "    if name is not None:\n",
    "        name = name.text.strip()\n",
    "    else:\n",
    "        name = \"N/A\"\n",
    "\n",
    "    # extract the athlete's country\n",
    "    country = row.find('td', {'class': 'country'})\n",
    "    if country is not None:\n",
    "        country = country.text.strip()\n",
    "    else:\n",
    "        country = \"N/A\"\n",
    "\n",
    "    # extract the athlete's date of birth\n",
    "    dob = row.find('td', {'class': 'dob'})\n",
    "    if dob is not None:\n",
    "        dob = dob.text.strip()\n",
    "    else:\n",
    "        dob = \"N/A\"\n",
    "\n",
    "    # extract the athlete's performance progression\n",
    "    progression = row.find('td', {'class': 'progression'})\n",
    "    if progression is not None:\n",
    "        progression = progression.text.strip()\n",
    "    else:\n",
    "        progression = \"N/A\"\n",
    "\n",
    "    # print out the athlete's information\n",
    "    print(f'{name}, {country}, {dob}, {progression}')\n",
    "\n",
    "# close the browser\n",
    "browser.quit()"
   ]
  },
  {
   "cell_type": "code",
   "execution_count": null,
   "metadata": {},
   "outputs": [],
   "source": []
  }
 ],
 "metadata": {
  "kernelspec": {
   "display_name": "Python 3 (ipykernel)",
   "language": "python",
   "name": "python3"
  },
  "language_info": {
   "codemirror_mode": {
    "name": "ipython",
    "version": 3
   },
   "file_extension": ".py",
   "mimetype": "text/x-python",
   "name": "python",
   "nbconvert_exporter": "python",
   "pygments_lexer": "ipython3",
   "version": "3.9.13"
  },
  "vscode": {
   "interpreter": {
    "hash": "31f2aee4e71d21fbe5cf8b01ff0e069b9275f58929596ceb00d14d90e3e16cd6"
   }
  }
 },
 "nbformat": 4,
 "nbformat_minor": 4
}
