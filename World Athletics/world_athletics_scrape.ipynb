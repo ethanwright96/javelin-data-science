{
 "cells": [
  {
   "cell_type": "markdown",
   "metadata": {},
   "source": [
    "# How old is the average Men's Javelin Thrower?"
   ]
  },
  {
   "cell_type": "markdown",
   "metadata": {},
   "source": [
    "### Purpose: Perform EDA on the top 500 Men's Javelin Throwers in the World as of May 9th 2023 in order to extract meaningful descriptive statistics and visualizations of the distribution of ages among these athletes"
   ]
  },
  {
   "cell_type": "code",
   "execution_count": 85,
   "metadata": {},
   "outputs": [],
   "source": [
    "# Import Dependencies\n",
    "import requests\n",
    "from bs4 import BeautifulSoup as soup\n",
    "from splinter import Browser\n",
    "import pandas as pd\n",
    "from datetime import datetime\n",
    "import numpy as np\n",
    "import matplotlib.pyplot as plt\n",
    "import scipy.stats as sts\n",
    "from scipy.interpolate import make_interp_spline"
   ]
  },
  {
   "cell_type": "code",
   "execution_count": 25,
   "metadata": {},
   "outputs": [],
   "source": [
    "# Set up Splinter\n",
    "browser = Browser('chrome')"
   ]
  },
  {
   "cell_type": "code",
   "execution_count": 26,
   "metadata": {},
   "outputs": [],
   "source": [
    "url = 'https://worldathletics.org/world-rankings/javelin-throw/men?regionType=world&page=1&rankDate=2023-05-09&limitByCountry=0'\n",
    "browser.visit(url)"
   ]
  },
  {
   "cell_type": "code",
   "execution_count": 4,
   "metadata": {},
   "outputs": [],
   "source": [
    "pages = []\n",
    "for i in range(1,6):\n",
    "    tables = pd.read_html(f'https://worldathletics.org/world-rankings/javelin-throw/men?regionType=world&page={i}&rankDate=2023-05-09&limitByCountry=0')\n",
    "    pages.append(tables)\n",
    "\n",
    "frame = pd.DataFrame()\n",
    "for page in pages:\n",
    "    frame = pd.concat([frame,page[0]],axis=0)"
   ]
  },
  {
   "cell_type": "code",
   "execution_count": 5,
   "metadata": {},
   "outputs": [
    {
     "data": {
      "text/html": [
       "<div>\n",
       "<style scoped>\n",
       "    .dataframe tbody tr th:only-of-type {\n",
       "        vertical-align: middle;\n",
       "    }\n",
       "\n",
       "    .dataframe tbody tr th {\n",
       "        vertical-align: top;\n",
       "    }\n",
       "\n",
       "    .dataframe thead th {\n",
       "        text-align: right;\n",
       "    }\n",
       "</style>\n",
       "<table border=\"1\" class=\"dataframe\">\n",
       "  <thead>\n",
       "    <tr style=\"text-align: right;\">\n",
       "      <th></th>\n",
       "      <th>Place</th>\n",
       "      <th>Competitor</th>\n",
       "      <th>DOB</th>\n",
       "      <th>Nat</th>\n",
       "      <th>Score</th>\n",
       "      <th>Event List</th>\n",
       "    </tr>\n",
       "  </thead>\n",
       "  <tbody>\n",
       "    <tr>\n",
       "      <th>0</th>\n",
       "      <td>1</td>\n",
       "      <td>Anderson PETERS</td>\n",
       "      <td>21 OCT 1997</td>\n",
       "      <td>GRN</td>\n",
       "      <td>1461</td>\n",
       "      <td>Javelin Throw</td>\n",
       "    </tr>\n",
       "    <tr>\n",
       "      <th>1</th>\n",
       "      <td>2</td>\n",
       "      <td>Neeraj CHOPRA</td>\n",
       "      <td>24 DEC 1997</td>\n",
       "      <td>IND</td>\n",
       "      <td>1455</td>\n",
       "      <td>Javelin Throw</td>\n",
       "    </tr>\n",
       "    <tr>\n",
       "      <th>2</th>\n",
       "      <td>3</td>\n",
       "      <td>Jakub VADLEJCH</td>\n",
       "      <td>10 OCT 1990</td>\n",
       "      <td>CZE</td>\n",
       "      <td>1428</td>\n",
       "      <td>Javelin Throw</td>\n",
       "    </tr>\n",
       "    <tr>\n",
       "      <th>3</th>\n",
       "      <td>4</td>\n",
       "      <td>Julian WEBER</td>\n",
       "      <td>29 AUG 1994</td>\n",
       "      <td>GER</td>\n",
       "      <td>1385</td>\n",
       "      <td>Javelin Throw</td>\n",
       "    </tr>\n",
       "    <tr>\n",
       "      <th>4</th>\n",
       "      <td>5</td>\n",
       "      <td>Arshad NADEEM</td>\n",
       "      <td>02 JAN 1997</td>\n",
       "      <td>PAK</td>\n",
       "      <td>1306</td>\n",
       "      <td>Javelin Throw</td>\n",
       "    </tr>\n",
       "    <tr>\n",
       "      <th>...</th>\n",
       "      <td>...</td>\n",
       "      <td>...</td>\n",
       "      <td>...</td>\n",
       "      <td>...</td>\n",
       "      <td>...</td>\n",
       "      <td>...</td>\n",
       "    </tr>\n",
       "    <tr>\n",
       "      <th>95</th>\n",
       "      <td>496</td>\n",
       "      <td>Tomonori MORISAWA</td>\n",
       "      <td>14 DEC 2005</td>\n",
       "      <td>JPN</td>\n",
       "      <td>826</td>\n",
       "      <td>Javelin Throw</td>\n",
       "    </tr>\n",
       "    <tr>\n",
       "      <th>96</th>\n",
       "      <td>497</td>\n",
       "      <td>Thibaud DUTREY</td>\n",
       "      <td>13 FEB 2000</td>\n",
       "      <td>FRA</td>\n",
       "      <td>826</td>\n",
       "      <td>Javelin Throw</td>\n",
       "    </tr>\n",
       "    <tr>\n",
       "      <th>97</th>\n",
       "      <td>498</td>\n",
       "      <td>Kazuhisa MATSUSHIMA</td>\n",
       "      <td>27 FEB 2001</td>\n",
       "      <td>JPN</td>\n",
       "      <td>826</td>\n",
       "      <td>Javelin Throw</td>\n",
       "    </tr>\n",
       "    <tr>\n",
       "      <th>98</th>\n",
       "      <td>499</td>\n",
       "      <td>Shota KOMATSU</td>\n",
       "      <td>11 OCT 2002</td>\n",
       "      <td>JPN</td>\n",
       "      <td>826</td>\n",
       "      <td>Javelin Throw</td>\n",
       "    </tr>\n",
       "    <tr>\n",
       "      <th>99</th>\n",
       "      <td>500</td>\n",
       "      <td>Martin JANCSIK</td>\n",
       "      <td>06 JAN 2004</td>\n",
       "      <td>HUN</td>\n",
       "      <td>826</td>\n",
       "      <td>Javelin Throw</td>\n",
       "    </tr>\n",
       "  </tbody>\n",
       "</table>\n",
       "<p>500 rows × 6 columns</p>\n",
       "</div>"
      ],
      "text/plain": [
       "    Place           Competitor          DOB  Nat  Score     Event List\n",
       "0       1      Anderson PETERS  21 OCT 1997  GRN   1461  Javelin Throw\n",
       "1       2        Neeraj CHOPRA  24 DEC 1997  IND   1455  Javelin Throw\n",
       "2       3       Jakub VADLEJCH  10 OCT 1990  CZE   1428  Javelin Throw\n",
       "3       4         Julian WEBER  29 AUG 1994  GER   1385  Javelin Throw\n",
       "4       5        Arshad NADEEM  02 JAN 1997  PAK   1306  Javelin Throw\n",
       "..    ...                  ...          ...  ...    ...            ...\n",
       "95    496    Tomonori MORISAWA  14 DEC 2005  JPN    826  Javelin Throw\n",
       "96    497       Thibaud DUTREY  13 FEB 2000  FRA    826  Javelin Throw\n",
       "97    498  Kazuhisa MATSUSHIMA  27 FEB 2001  JPN    826  Javelin Throw\n",
       "98    499        Shota KOMATSU  11 OCT 2002  JPN    826  Javelin Throw\n",
       "99    500       Martin JANCSIK  06 JAN 2004  HUN    826  Javelin Throw\n",
       "\n",
       "[500 rows x 6 columns]"
      ]
     },
     "execution_count": 5,
     "metadata": {},
     "output_type": "execute_result"
    }
   ],
   "source": [
    "frame"
   ]
  },
  {
   "cell_type": "code",
   "execution_count": 6,
   "metadata": {},
   "outputs": [
    {
     "data": {
      "text/plain": [
       "Place          int64\n",
       "Competitor    object\n",
       "DOB           object\n",
       "Nat           object\n",
       "Score          int64\n",
       "Event List    object\n",
       "dtype: object"
      ]
     },
     "execution_count": 6,
     "metadata": {},
     "output_type": "execute_result"
    }
   ],
   "source": [
    "frame.dtypes"
   ]
  },
  {
   "cell_type": "markdown",
   "metadata": {},
   "source": [
    "### Calculate age with datetime and DOB variable"
   ]
  },
  {
   "cell_type": "code",
   "execution_count": 8,
   "metadata": {},
   "outputs": [],
   "source": [
    "# Copy dataframe\n",
    "df = frame.copy()"
   ]
  },
  {
   "cell_type": "code",
   "execution_count": 9,
   "metadata": {},
   "outputs": [
    {
     "data": {
      "text/html": [
       "<div>\n",
       "<style scoped>\n",
       "    .dataframe tbody tr th:only-of-type {\n",
       "        vertical-align: middle;\n",
       "    }\n",
       "\n",
       "    .dataframe tbody tr th {\n",
       "        vertical-align: top;\n",
       "    }\n",
       "\n",
       "    .dataframe thead th {\n",
       "        text-align: right;\n",
       "    }\n",
       "</style>\n",
       "<table border=\"1\" class=\"dataframe\">\n",
       "  <thead>\n",
       "    <tr style=\"text-align: right;\">\n",
       "      <th></th>\n",
       "      <th>Place</th>\n",
       "      <th>Competitor</th>\n",
       "      <th>DOB</th>\n",
       "      <th>Nat</th>\n",
       "      <th>Score</th>\n",
       "      <th>Event List</th>\n",
       "    </tr>\n",
       "  </thead>\n",
       "  <tbody>\n",
       "    <tr>\n",
       "      <th>0</th>\n",
       "      <td>1</td>\n",
       "      <td>Anderson PETERS</td>\n",
       "      <td>21 OCT 1997</td>\n",
       "      <td>GRN</td>\n",
       "      <td>1461</td>\n",
       "      <td>Javelin Throw</td>\n",
       "    </tr>\n",
       "    <tr>\n",
       "      <th>1</th>\n",
       "      <td>2</td>\n",
       "      <td>Neeraj CHOPRA</td>\n",
       "      <td>24 DEC 1997</td>\n",
       "      <td>IND</td>\n",
       "      <td>1455</td>\n",
       "      <td>Javelin Throw</td>\n",
       "    </tr>\n",
       "    <tr>\n",
       "      <th>2</th>\n",
       "      <td>3</td>\n",
       "      <td>Jakub VADLEJCH</td>\n",
       "      <td>10 OCT 1990</td>\n",
       "      <td>CZE</td>\n",
       "      <td>1428</td>\n",
       "      <td>Javelin Throw</td>\n",
       "    </tr>\n",
       "    <tr>\n",
       "      <th>3</th>\n",
       "      <td>4</td>\n",
       "      <td>Julian WEBER</td>\n",
       "      <td>29 AUG 1994</td>\n",
       "      <td>GER</td>\n",
       "      <td>1385</td>\n",
       "      <td>Javelin Throw</td>\n",
       "    </tr>\n",
       "    <tr>\n",
       "      <th>4</th>\n",
       "      <td>5</td>\n",
       "      <td>Arshad NADEEM</td>\n",
       "      <td>02 JAN 1997</td>\n",
       "      <td>PAK</td>\n",
       "      <td>1306</td>\n",
       "      <td>Javelin Throw</td>\n",
       "    </tr>\n",
       "    <tr>\n",
       "      <th>...</th>\n",
       "      <td>...</td>\n",
       "      <td>...</td>\n",
       "      <td>...</td>\n",
       "      <td>...</td>\n",
       "      <td>...</td>\n",
       "      <td>...</td>\n",
       "    </tr>\n",
       "    <tr>\n",
       "      <th>95</th>\n",
       "      <td>496</td>\n",
       "      <td>Tomonori MORISAWA</td>\n",
       "      <td>14 DEC 2005</td>\n",
       "      <td>JPN</td>\n",
       "      <td>826</td>\n",
       "      <td>Javelin Throw</td>\n",
       "    </tr>\n",
       "    <tr>\n",
       "      <th>96</th>\n",
       "      <td>497</td>\n",
       "      <td>Thibaud DUTREY</td>\n",
       "      <td>13 FEB 2000</td>\n",
       "      <td>FRA</td>\n",
       "      <td>826</td>\n",
       "      <td>Javelin Throw</td>\n",
       "    </tr>\n",
       "    <tr>\n",
       "      <th>97</th>\n",
       "      <td>498</td>\n",
       "      <td>Kazuhisa MATSUSHIMA</td>\n",
       "      <td>27 FEB 2001</td>\n",
       "      <td>JPN</td>\n",
       "      <td>826</td>\n",
       "      <td>Javelin Throw</td>\n",
       "    </tr>\n",
       "    <tr>\n",
       "      <th>98</th>\n",
       "      <td>499</td>\n",
       "      <td>Shota KOMATSU</td>\n",
       "      <td>11 OCT 2002</td>\n",
       "      <td>JPN</td>\n",
       "      <td>826</td>\n",
       "      <td>Javelin Throw</td>\n",
       "    </tr>\n",
       "    <tr>\n",
       "      <th>99</th>\n",
       "      <td>500</td>\n",
       "      <td>Martin JANCSIK</td>\n",
       "      <td>06 JAN 2004</td>\n",
       "      <td>HUN</td>\n",
       "      <td>826</td>\n",
       "      <td>Javelin Throw</td>\n",
       "    </tr>\n",
       "  </tbody>\n",
       "</table>\n",
       "<p>500 rows × 6 columns</p>\n",
       "</div>"
      ],
      "text/plain": [
       "    Place           Competitor          DOB  Nat  Score     Event List\n",
       "0       1      Anderson PETERS  21 OCT 1997  GRN   1461  Javelin Throw\n",
       "1       2        Neeraj CHOPRA  24 DEC 1997  IND   1455  Javelin Throw\n",
       "2       3       Jakub VADLEJCH  10 OCT 1990  CZE   1428  Javelin Throw\n",
       "3       4         Julian WEBER  29 AUG 1994  GER   1385  Javelin Throw\n",
       "4       5        Arshad NADEEM  02 JAN 1997  PAK   1306  Javelin Throw\n",
       "..    ...                  ...          ...  ...    ...            ...\n",
       "95    496    Tomonori MORISAWA  14 DEC 2005  JPN    826  Javelin Throw\n",
       "96    497       Thibaud DUTREY  13 FEB 2000  FRA    826  Javelin Throw\n",
       "97    498  Kazuhisa MATSUSHIMA  27 FEB 2001  JPN    826  Javelin Throw\n",
       "98    499        Shota KOMATSU  11 OCT 2002  JPN    826  Javelin Throw\n",
       "99    500       Martin JANCSIK  06 JAN 2004  HUN    826  Javelin Throw\n",
       "\n",
       "[500 rows x 6 columns]"
      ]
     },
     "execution_count": 9,
     "metadata": {},
     "output_type": "execute_result"
    }
   ],
   "source": [
    "# Inspect df for confirmation\n",
    "df"
   ]
  },
  {
   "cell_type": "code",
   "execution_count": 7,
   "metadata": {},
   "outputs": [
    {
     "data": {
      "text/plain": [
       "0     21 OCT 1997\n",
       "1     24 DEC 1997\n",
       "2     10 OCT 1990\n",
       "3     29 AUG 1994\n",
       "4     02 JAN 1997\n",
       "         ...     \n",
       "95    14 DEC 2005\n",
       "96    13 FEB 2000\n",
       "97    27 FEB 2001\n",
       "98    11 OCT 2002\n",
       "99    06 JAN 2004\n",
       "Name: DOB, Length: 500, dtype: object"
      ]
     },
     "execution_count": 7,
     "metadata": {},
     "output_type": "execute_result"
    }
   ],
   "source": [
    "# Inspect DOB in isolation\n",
    "frame.DOB"
   ]
  },
  {
   "cell_type": "code",
   "execution_count": 13,
   "metadata": {},
   "outputs": [],
   "source": [
    "# Define function to calculate current age\n",
    "def calculate_age(dob):\n",
    "    \"\"\"\n",
    "    Calculates the age based on the date of birth.\n",
    "    \"\"\"\n",
    "    try:\n",
    "        dob_date = datetime.strptime(str(dob), '%d %b %Y')\n",
    "        today_date = datetime.today()\n",
    "        age = today_date.year - dob_date.year - ((today_date.month, today_date.day) < (dob_date.month, dob_date.day))\n",
    "        return age\n",
    "    except:\n",
    "        return np.nan"
   ]
  },
  {
   "cell_type": "code",
   "execution_count": 15,
   "metadata": {},
   "outputs": [],
   "source": [
    "# Add a new column with the age calculated for each row\n",
    "df['Age'] = df['DOB'].apply(calculate_age)\n",
    "df['Age'] = df['Age'].fillna(0)"
   ]
  },
  {
   "cell_type": "code",
   "execution_count": 16,
   "metadata": {},
   "outputs": [
    {
     "data": {
      "text/html": [
       "<div>\n",
       "<style scoped>\n",
       "    .dataframe tbody tr th:only-of-type {\n",
       "        vertical-align: middle;\n",
       "    }\n",
       "\n",
       "    .dataframe tbody tr th {\n",
       "        vertical-align: top;\n",
       "    }\n",
       "\n",
       "    .dataframe thead th {\n",
       "        text-align: right;\n",
       "    }\n",
       "</style>\n",
       "<table border=\"1\" class=\"dataframe\">\n",
       "  <thead>\n",
       "    <tr style=\"text-align: right;\">\n",
       "      <th></th>\n",
       "      <th>Place</th>\n",
       "      <th>Competitor</th>\n",
       "      <th>DOB</th>\n",
       "      <th>Nat</th>\n",
       "      <th>Score</th>\n",
       "      <th>Event List</th>\n",
       "      <th>Age</th>\n",
       "    </tr>\n",
       "  </thead>\n",
       "  <tbody>\n",
       "    <tr>\n",
       "      <th>0</th>\n",
       "      <td>1</td>\n",
       "      <td>Anderson PETERS</td>\n",
       "      <td>21 OCT 1997</td>\n",
       "      <td>GRN</td>\n",
       "      <td>1461</td>\n",
       "      <td>Javelin Throw</td>\n",
       "      <td>25.0</td>\n",
       "    </tr>\n",
       "    <tr>\n",
       "      <th>1</th>\n",
       "      <td>2</td>\n",
       "      <td>Neeraj CHOPRA</td>\n",
       "      <td>24 DEC 1997</td>\n",
       "      <td>IND</td>\n",
       "      <td>1455</td>\n",
       "      <td>Javelin Throw</td>\n",
       "      <td>25.0</td>\n",
       "    </tr>\n",
       "    <tr>\n",
       "      <th>2</th>\n",
       "      <td>3</td>\n",
       "      <td>Jakub VADLEJCH</td>\n",
       "      <td>10 OCT 1990</td>\n",
       "      <td>CZE</td>\n",
       "      <td>1428</td>\n",
       "      <td>Javelin Throw</td>\n",
       "      <td>32.0</td>\n",
       "    </tr>\n",
       "    <tr>\n",
       "      <th>3</th>\n",
       "      <td>4</td>\n",
       "      <td>Julian WEBER</td>\n",
       "      <td>29 AUG 1994</td>\n",
       "      <td>GER</td>\n",
       "      <td>1385</td>\n",
       "      <td>Javelin Throw</td>\n",
       "      <td>28.0</td>\n",
       "    </tr>\n",
       "    <tr>\n",
       "      <th>4</th>\n",
       "      <td>5</td>\n",
       "      <td>Arshad NADEEM</td>\n",
       "      <td>02 JAN 1997</td>\n",
       "      <td>PAK</td>\n",
       "      <td>1306</td>\n",
       "      <td>Javelin Throw</td>\n",
       "      <td>26.0</td>\n",
       "    </tr>\n",
       "    <tr>\n",
       "      <th>...</th>\n",
       "      <td>...</td>\n",
       "      <td>...</td>\n",
       "      <td>...</td>\n",
       "      <td>...</td>\n",
       "      <td>...</td>\n",
       "      <td>...</td>\n",
       "      <td>...</td>\n",
       "    </tr>\n",
       "    <tr>\n",
       "      <th>95</th>\n",
       "      <td>496</td>\n",
       "      <td>Tomonori MORISAWA</td>\n",
       "      <td>14 DEC 2005</td>\n",
       "      <td>JPN</td>\n",
       "      <td>826</td>\n",
       "      <td>Javelin Throw</td>\n",
       "      <td>17.0</td>\n",
       "    </tr>\n",
       "    <tr>\n",
       "      <th>96</th>\n",
       "      <td>497</td>\n",
       "      <td>Thibaud DUTREY</td>\n",
       "      <td>13 FEB 2000</td>\n",
       "      <td>FRA</td>\n",
       "      <td>826</td>\n",
       "      <td>Javelin Throw</td>\n",
       "      <td>23.0</td>\n",
       "    </tr>\n",
       "    <tr>\n",
       "      <th>97</th>\n",
       "      <td>498</td>\n",
       "      <td>Kazuhisa MATSUSHIMA</td>\n",
       "      <td>27 FEB 2001</td>\n",
       "      <td>JPN</td>\n",
       "      <td>826</td>\n",
       "      <td>Javelin Throw</td>\n",
       "      <td>22.0</td>\n",
       "    </tr>\n",
       "    <tr>\n",
       "      <th>98</th>\n",
       "      <td>499</td>\n",
       "      <td>Shota KOMATSU</td>\n",
       "      <td>11 OCT 2002</td>\n",
       "      <td>JPN</td>\n",
       "      <td>826</td>\n",
       "      <td>Javelin Throw</td>\n",
       "      <td>20.0</td>\n",
       "    </tr>\n",
       "    <tr>\n",
       "      <th>99</th>\n",
       "      <td>500</td>\n",
       "      <td>Martin JANCSIK</td>\n",
       "      <td>06 JAN 2004</td>\n",
       "      <td>HUN</td>\n",
       "      <td>826</td>\n",
       "      <td>Javelin Throw</td>\n",
       "      <td>19.0</td>\n",
       "    </tr>\n",
       "  </tbody>\n",
       "</table>\n",
       "<p>500 rows × 7 columns</p>\n",
       "</div>"
      ],
      "text/plain": [
       "    Place           Competitor          DOB  Nat  Score     Event List   Age\n",
       "0       1      Anderson PETERS  21 OCT 1997  GRN   1461  Javelin Throw  25.0\n",
       "1       2        Neeraj CHOPRA  24 DEC 1997  IND   1455  Javelin Throw  25.0\n",
       "2       3       Jakub VADLEJCH  10 OCT 1990  CZE   1428  Javelin Throw  32.0\n",
       "3       4         Julian WEBER  29 AUG 1994  GER   1385  Javelin Throw  28.0\n",
       "4       5        Arshad NADEEM  02 JAN 1997  PAK   1306  Javelin Throw  26.0\n",
       "..    ...                  ...          ...  ...    ...            ...   ...\n",
       "95    496    Tomonori MORISAWA  14 DEC 2005  JPN    826  Javelin Throw  17.0\n",
       "96    497       Thibaud DUTREY  13 FEB 2000  FRA    826  Javelin Throw  23.0\n",
       "97    498  Kazuhisa MATSUSHIMA  27 FEB 2001  JPN    826  Javelin Throw  22.0\n",
       "98    499        Shota KOMATSU  11 OCT 2002  JPN    826  Javelin Throw  20.0\n",
       "99    500       Martin JANCSIK  06 JAN 2004  HUN    826  Javelin Throw  19.0\n",
       "\n",
       "[500 rows x 7 columns]"
      ]
     },
     "execution_count": 16,
     "metadata": {},
     "output_type": "execute_result"
    }
   ],
   "source": [
    "df"
   ]
  },
  {
   "cell_type": "markdown",
   "metadata": {},
   "source": [
    "## Analyze age data"
   ]
  },
  {
   "cell_type": "code",
   "execution_count": 27,
   "metadata": {},
   "outputs": [
    {
     "data": {
      "text/plain": [
       "<AxesSubplot:ylabel='Frequency'>"
      ]
     },
     "execution_count": 27,
     "metadata": {},
     "output_type": "execute_result"
    },
    {
     "data": {
      "image/png": "[encoded data removed]",
      "text/plain": [
       "<Figure size 640x480 with 1 Axes>"
      ]
     },
     "metadata": {},
     "output_type": "display_data"
    }
   ],
   "source": [
    "df.Age.plot.hist(edgecolor='black')"
   ]
  },
  {
   "cell_type": "code",
   "execution_count": 21,
   "metadata": {},
   "outputs": [
    {
     "data": {
      "text/plain": [
       "(443, 7)"
      ]
     },
     "execution_count": 21,
     "metadata": {},
     "output_type": "execute_result"
    }
   ],
   "source": [
    "# Filter out Junior Throwers \n",
    "adult_df = df[df.Age >= 18]\n",
    "adult_df.shape"
   ]
  },
  {
   "cell_type": "code",
   "execution_count": 32,
   "metadata": {},
   "outputs": [
    {
     "data": {
      "image/png": "[encoded data removed]",
      "text/plain": [
       "<Figure size 640x480 with 1 Axes>"
      ]
     },
     "metadata": {},
     "output_type": "display_data"
    }
   ],
   "source": [
    "adult_df.Age.plot.hist(bins=25, color='darkgreen', edgecolor='black')\n",
    "plt.title(\"Age of Male Javelin Thrower Ranked in the Top 500 in the World as of 05/09/23 > 18 yrs old\", size = 10)\n",
    "plt.xlabel(\"Current Age in Years\")\n",
    "plt.show()"
   ]
  },
  {
   "cell_type": "code",
   "execution_count": 38,
   "metadata": {},
   "outputs": [
    {
     "data": {
      "text/plain": [
       "count    443.000000\n",
       "mean      24.099323\n",
       "std        4.926066\n",
       "min       18.000000\n",
       "25%       20.000000\n",
       "50%       23.000000\n",
       "75%       27.000000\n",
       "max       47.000000\n",
       "Name: Age, dtype: float64"
      ]
     },
     "execution_count": 38,
     "metadata": {},
     "output_type": "execute_result"
    }
   ],
   "source": [
    "adult_df.Age.describe()"
   ]
  },
  {
   "cell_type": "code",
   "execution_count": 87,
   "metadata": {},
   "outputs": [
    {
     "data": {
      "image/png": "[encoded data removed]",
      "text/plain": [
       "<Figure size 1600x800 with 1 Axes>"
      ]
     },
     "metadata": {},
     "output_type": "display_data"
    }
   ],
   "source": [
    "top_hundred =  adult_df[adult_df.Place <= 100]\n",
    "top_hundred.Age.plot.hist(bins=11, color='teal', edgecolor='black', figsize=[16,8])\n",
    "plt.title(\"Histogram of the Age of the Top 100 Male Javelin Throwers in the World Today\", size=15)\n",
    "plt.xlabel(\"Current Athlete Age\", size=15)\n",
    "plt.ylabel(\"Frequency\")\n",
    "plt.annotate(\"Source: https://worldathletics.org/world-rankings/javelin-throw/men?regionType=world&page=1&rankDate=2023-05-09&limitByCountry=0\",\n",
    "            xy = (.785, -0.15),\n",
    "            xycoords='axes fraction',\n",
    "            ha='right',\n",
    "            va=\"center\",\n",
    "            fontsize=10)\n",
    "plt.savefig(\"top_100_age_histogram.png\")\n",
    "plt.show()"
   ]
  },
  {
   "cell_type": "code",
   "execution_count": 88,
   "metadata": {},
   "outputs": [
    {
     "data": {
      "text/plain": [
       "count    100.000000\n",
       "mean      26.090000\n",
       "std        4.062877\n",
       "min       18.000000\n",
       "25%       23.000000\n",
       "50%       26.000000\n",
       "75%       28.000000\n",
       "max       40.000000\n",
       "Name: Age, dtype: float64"
      ]
     },
     "execution_count": 88,
     "metadata": {},
     "output_type": "execute_result"
    }
   ],
   "source": [
    "top_hundred.Age.describe()"
   ]
  },
  {
   "cell_type": "code",
   "execution_count": 89,
   "metadata": {},
   "outputs": [
    {
     "data": {
      "image/png": "[encoded data removed]",
      "text/plain": [
       "<Figure size 640x480 with 1 Axes>"
      ]
     },
     "metadata": {},
     "output_type": "display_data"
    }
   ],
   "source": [
    "# Linear Regression for top_hundred\n",
    "a, b = np.polyfit(top_hundred.Age, top_hundred.Place, 1)\n",
    "plt.scatter(x=top_hundred.Age, y=top_hundred.Place)\n",
    "plt.plot(top_hundred.Age, a*top_hundred.Age+b, color = 'darkorange')\n",
    "plt.show()"
   ]
  },
  {
   "cell_type": "code",
   "execution_count": 70,
   "metadata": {
    "tags": []
   },
   "outputs": [
    {
     "data": {
      "image/png": "[encoded data removed]",
      "text/plain": [
       "<Figure size 640x480 with 1 Axes>"
      ]
     },
     "metadata": {},
     "output_type": "display_data"
    }
   ],
   "source": [
    "# Linear Regression for adult_df\n",
    "a, b = np.polyfit(adult_df.Age, adult_df.Place, 1)\n",
    "plt.scatter(x=adult_df.Age, y=adult_df.Place)\n",
    "plt.plot(adult_df.Age, a*adult_df.Age+b, color = 'darkorange')\n",
    "plt.show()"
   ]
  },
  {
   "cell_type": "code",
   "execution_count": 86,
   "metadata": {},
   "outputs": [
    {
     "name": "stdout",
     "output_type": "stream",
     "text": [
      "R-squared: 0.041883\n"
     ]
    }
   ],
   "source": [
    "res = sts.linregress(adult_df.Age, adult_df.Place)\n",
    "print(f\"R-squared: {res.rvalue**2:.6f}\")"
   ]
  },
  {
   "cell_type": "code",
   "execution_count": 80,
   "metadata": {},
   "outputs": [
    {
     "name": "stdout",
     "output_type": "stream",
     "text": [
      "True\n",
      "False\n"
     ]
    }
   ],
   "source": [
    "# Remove missing values\n",
    "adult_df = adult_df.dropna()\n",
    "\n",
    "# Reset index\n",
    "adult_df = adult_df.reset_index(drop=True)\n",
    "\n",
    "# Assign variable to x and y\n",
    "x = adult_df.Age\n",
    "y = adult_df.Place\n",
    "\n",
    "# Remove duplicates\n",
    "unique_x, unique_idx = np.unique(x, return_index=True)\n",
    "x = unique_x\n",
    "y = y[unique_idx]\n",
    "\n",
    "# Define custom index\n",
    "idx = ['point_{}'.format(i) for i in range(len(x))]\n",
    "\n",
    "# Convert the lists to pandas Series with custom index 'idx'\n",
    "x = pd.Series(x, index=idx)\n",
    "y = pd.Series(y, index=idx)\n",
    "\n",
    "# Sort the Series by index\n",
    "x_sorted = x.sort_index()\n",
    "y_sorted = y.sort_index()\n",
    "\n",
    "print(np.isnan(y_sorted).any())  # Check for NaN values\n",
    "print(np.isinf(y_sorted).any())  # Check for Inf values"
   ]
  },
  {
   "cell_type": "code",
   "execution_count": 84,
   "metadata": {},
   "outputs": [],
   "source": [
    "# If either is 'True' remove the corresponding elements from the 'unique_x' and 'y_sorted' using boolean indexing\n",
    "mask = ~(np.isnan(y_sorted) | np.isinf(y_sorted))\n",
    "unique_x = unique_x[mask]\n",
    "y_sorted = y_sorted[mask]"
   ]
  },
  {
   "cell_type": "markdown",
   "metadata": {},
   "source": [
    "### It seems that the array unique_x is empty, which causes an IndexError when trying to access its first element. This is most likely because all values in the Age column of the adult_df dataframe were duplicates and were removed by the unique() function. You may want to check if this is the case and consider using a different dataset if you want to explore the relationship between age and place."
   ]
  },
  {
   "cell_type": "code",
   "execution_count": 83,
   "metadata": {},
   "outputs": [
    {
     "ename": "IndexError",
     "evalue": "index 0 is out of bounds for axis 0 with size 0",
     "output_type": "error",
     "traceback": [
      "\u001b[1;31m---------------------------------------------------------------------------\u001b[0m",
      "\u001b[1;31mIndexError\u001b[0m                                Traceback (most recent call last)",
      "\u001b[1;32m~\\AppData\\Local\\Temp\\ipykernel_1960\\3130511287.py\u001b[0m in \u001b[0;36m<module>\u001b[1;34m\u001b[0m\n\u001b[0;32m      1\u001b[0m \u001b[1;31m# Fit a curve to the data\u001b[0m\u001b[1;33m\u001b[0m\u001b[1;33m\u001b[0m\u001b[0m\n\u001b[1;32m----> 2\u001b[1;33m \u001b[0mspline\u001b[0m \u001b[1;33m=\u001b[0m \u001b[0mmake_interp_spline\u001b[0m\u001b[1;33m(\u001b[0m\u001b[0munique_x\u001b[0m\u001b[1;33m,\u001b[0m \u001b[0my_sorted\u001b[0m\u001b[1;33m)\u001b[0m\u001b[1;33m\u001b[0m\u001b[1;33m\u001b[0m\u001b[0m\n\u001b[0m\u001b[0;32m      3\u001b[0m \u001b[0mx_smooth\u001b[0m \u001b[1;33m=\u001b[0m \u001b[0mnp\u001b[0m\u001b[1;33m.\u001b[0m\u001b[0mlinspace\u001b[0m\u001b[1;33m(\u001b[0m\u001b[0mx_sorted\u001b[0m\u001b[1;33m.\u001b[0m\u001b[0mmin\u001b[0m\u001b[1;33m(\u001b[0m\u001b[1;33m)\u001b[0m\u001b[1;33m,\u001b[0m \u001b[0mx_sorted\u001b[0m\u001b[1;33m.\u001b[0m\u001b[0mmax\u001b[0m\u001b[1;33m(\u001b[0m\u001b[1;33m)\u001b[0m\u001b[1;33m,\u001b[0m \u001b[1;36m100\u001b[0m\u001b[1;33m)\u001b[0m\u001b[1;33m\u001b[0m\u001b[1;33m\u001b[0m\u001b[0m\n\u001b[0;32m      4\u001b[0m \u001b[0my_smooth\u001b[0m \u001b[1;33m=\u001b[0m \u001b[0mspline\u001b[0m\u001b[1;33m(\u001b[0m\u001b[0mx_smooth\u001b[0m\u001b[1;33m)\u001b[0m\u001b[1;33m\u001b[0m\u001b[1;33m\u001b[0m\u001b[0m\n\u001b[0;32m      5\u001b[0m \u001b[1;33m\u001b[0m\u001b[0m\n",
      "\u001b[1;32m~\\anaconda3\\lib\\site-packages\\scipy\\interpolate\\_bsplines.py\u001b[0m in \u001b[0;36mmake_interp_spline\u001b[1;34m(x, y, k, t, bc_type, axis, check_finite)\u001b[0m\n\u001b[0;32m   1284\u001b[0m                            (x[-1],)*(k+1)]\n\u001b[0;32m   1285\u001b[0m             \u001b[1;32melse\u001b[0m\u001b[1;33m:\u001b[0m\u001b[1;33m\u001b[0m\u001b[1;33m\u001b[0m\u001b[0m\n\u001b[1;32m-> 1286\u001b[1;33m                 \u001b[0mt\u001b[0m \u001b[1;33m=\u001b[0m \u001b[0m_not_a_knot\u001b[0m\u001b[1;33m(\u001b[0m\u001b[0mx\u001b[0m\u001b[1;33m,\u001b[0m \u001b[0mk\u001b[0m\u001b[1;33m)\u001b[0m\u001b[1;33m\u001b[0m\u001b[1;33m\u001b[0m\u001b[0m\n\u001b[0m\u001b[0;32m   1287\u001b[0m         \u001b[1;32melse\u001b[0m\u001b[1;33m:\u001b[0m\u001b[1;33m\u001b[0m\u001b[1;33m\u001b[0m\u001b[0m\n\u001b[0;32m   1288\u001b[0m             \u001b[0mt\u001b[0m \u001b[1;33m=\u001b[0m \u001b[0m_augknt\u001b[0m\u001b[1;33m(\u001b[0m\u001b[0mx\u001b[0m\u001b[1;33m,\u001b[0m \u001b[0mk\u001b[0m\u001b[1;33m)\u001b[0m\u001b[1;33m\u001b[0m\u001b[1;33m\u001b[0m\u001b[0m\n",
      "\u001b[1;32m~\\anaconda3\\lib\\site-packages\\scipy\\interpolate\\_bsplines.py\u001b[0m in \u001b[0;36m_not_a_knot\u001b[1;34m(x, k)\u001b[0m\n\u001b[0;32m    804\u001b[0m     \u001b[0mm\u001b[0m \u001b[1;33m=\u001b[0m \u001b[1;33m(\u001b[0m\u001b[0mk\u001b[0m \u001b[1;33m-\u001b[0m \u001b[1;36m1\u001b[0m\u001b[1;33m)\u001b[0m \u001b[1;33m//\u001b[0m \u001b[1;36m2\u001b[0m\u001b[1;33m\u001b[0m\u001b[1;33m\u001b[0m\u001b[0m\n\u001b[0;32m    805\u001b[0m     \u001b[0mt\u001b[0m \u001b[1;33m=\u001b[0m \u001b[0mx\u001b[0m\u001b[1;33m[\u001b[0m\u001b[0mm\u001b[0m\u001b[1;33m+\u001b[0m\u001b[1;36m1\u001b[0m\u001b[1;33m:\u001b[0m\u001b[1;33m-\u001b[0m\u001b[0mm\u001b[0m\u001b[1;33m-\u001b[0m\u001b[1;36m1\u001b[0m\u001b[1;33m]\u001b[0m\u001b[1;33m\u001b[0m\u001b[1;33m\u001b[0m\u001b[0m\n\u001b[1;32m--> 806\u001b[1;33m     \u001b[0mt\u001b[0m \u001b[1;33m=\u001b[0m \u001b[0mnp\u001b[0m\u001b[1;33m.\u001b[0m\u001b[0mr_\u001b[0m\u001b[1;33m[\u001b[0m\u001b[1;33m(\u001b[0m\u001b[0mx\u001b[0m\u001b[1;33m[\u001b[0m\u001b[1;36m0\u001b[0m\u001b[1;33m]\u001b[0m\u001b[1;33m,\u001b[0m\u001b[1;33m)\u001b[0m\u001b[1;33m*\u001b[0m\u001b[1;33m(\u001b[0m\u001b[0mk\u001b[0m\u001b[1;33m+\u001b[0m\u001b[1;36m1\u001b[0m\u001b[1;33m)\u001b[0m\u001b[1;33m,\u001b[0m \u001b[0mt\u001b[0m\u001b[1;33m,\u001b[0m \u001b[1;33m(\u001b[0m\u001b[0mx\u001b[0m\u001b[1;33m[\u001b[0m\u001b[1;33m-\u001b[0m\u001b[1;36m1\u001b[0m\u001b[1;33m]\u001b[0m\u001b[1;33m,\u001b[0m\u001b[1;33m)\u001b[0m\u001b[1;33m*\u001b[0m\u001b[1;33m(\u001b[0m\u001b[0mk\u001b[0m\u001b[1;33m+\u001b[0m\u001b[1;36m1\u001b[0m\u001b[1;33m)\u001b[0m\u001b[1;33m]\u001b[0m\u001b[1;33m\u001b[0m\u001b[1;33m\u001b[0m\u001b[0m\n\u001b[0m\u001b[0;32m    807\u001b[0m     \u001b[1;32mreturn\u001b[0m \u001b[0mt\u001b[0m\u001b[1;33m\u001b[0m\u001b[1;33m\u001b[0m\u001b[0m\n\u001b[0;32m    808\u001b[0m \u001b[1;33m\u001b[0m\u001b[0m\n",
      "\u001b[1;31mIndexError\u001b[0m: index 0 is out of bounds for axis 0 with size 0"
     ]
    }
   ],
   "source": [
    "# Fit a curve to the data\n",
    "spline = make_interp_spline(unique_x, y_sorted)\n",
    "x_smooth = np.linspace(x_sorted.min(), x_sorted.max(), 100)\n",
    "y_smooth = spline(x_smooth)\n",
    "\n",
    "# Plot the scatter plot and the smooth curve\n",
    "plt.scatter(x, y)\n",
    "plt.plot(x_smooth, y_smooth)\n",
    "\n",
    "# Show the plot\n",
    "plt.show()"
   ]
  },
  {
   "cell_type": "code",
   "execution_count": 68,
   "metadata": {},
   "outputs": [
    {
     "data": {
      "text/plain": [
       "count    100.000000\n",
       "mean      26.090000\n",
       "std        4.062877\n",
       "min       18.000000\n",
       "25%       23.000000\n",
       "50%       26.000000\n",
       "75%       28.000000\n",
       "max       40.000000\n",
       "Name: Age, dtype: float64"
      ]
     },
     "execution_count": 68,
     "metadata": {},
     "output_type": "execute_result"
    }
   ],
   "source": [
    "top_hundred.Age.describe()"
   ]
  },
  {
   "cell_type": "code",
   "execution_count": 36,
   "metadata": {},
   "outputs": [
    {
     "data": {
      "text/plain": [
       "<AxesSubplot:ylabel='Frequency'>"
      ]
     },
     "execution_count": 36,
     "metadata": {},
     "output_type": "execute_result"
    },
    {
     "data": {
      "image/png": "[encoded data removed]",
      "text/plain": [
       "<Figure size 640x480 with 1 Axes>"
      ]
     },
     "metadata": {},
     "output_type": "display_data"
    }
   ],
   "source": [
    "top_fifty = adult_df[adult_df.Place <= 50]\n",
    "top_fifty.Age.plot.hist(bins=25, color='purple', edgecolor='black')"
   ]
  },
  {
   "cell_type": "code",
   "execution_count": 37,
   "metadata": {},
   "outputs": [
    {
     "data": {
      "text/plain": [
       "count    50.000000\n",
       "mean     26.460000\n",
       "std       4.272408\n",
       "min      18.000000\n",
       "25%      24.000000\n",
       "50%      26.000000\n",
       "75%      29.000000\n",
       "max      40.000000\n",
       "Name: Age, dtype: float64"
      ]
     },
     "execution_count": 37,
     "metadata": {},
     "output_type": "execute_result"
    }
   ],
   "source": [
    "top_fifty.Age.describe()"
   ]
  },
  {
   "cell_type": "code",
   "execution_count": 69,
   "metadata": {},
   "outputs": [
    {
     "data": {
      "text/plain": [
       "count    10.00000\n",
       "mean     28.10000\n",
       "std       3.28126\n",
       "min      25.00000\n",
       "25%      26.00000\n",
       "50%      27.00000\n",
       "75%      29.50000\n",
       "max      35.00000\n",
       "Name: Age, dtype: float64"
      ]
     },
     "execution_count": 69,
     "metadata": {},
     "output_type": "execute_result"
    }
   ],
   "source": [
    "top_ten = adult_df[adult_df.Place <= 10]\n",
    "top_ten.Age.describe()"
   ]
  },
  {
   "cell_type": "markdown",
   "metadata": {},
   "source": [
    "## Parse html for seasons bests"
   ]
  },
  {
   "cell_type": "code",
   "execution_count": 18,
   "metadata": {},
   "outputs": [
    {
     "data": {
      "text/plain": [
       "[]"
      ]
     },
     "execution_count": 18,
     "metadata": {},
     "output_type": "execute_result"
    }
   ],
   "source": [
    "# import requests\n",
    "# from bs4 import BeautifulSoup\n",
    "# import pandas as pd\n",
    "\n",
    "# Define the base URL and parameters for the rankings page\n",
    "base_url = 'https://worldathletics.org'\n",
    "params = {\n",
    "    'regionType': 'world',\n",
    "    'page': 1,\n",
    "    'rankDate': '2023-05-09',\n",
    "    'limitByCountry': 0,\n",
    "    'eventId': '4f558bc9-9b95-4b5a-b80a-4d0f381bffb2',  # Javelin throw event ID\n",
    "}\n",
    "\n",
    "# Send a GET request to the rankings page and parse the response with BeautifulSoup\n",
    "response = requests.get(base_url + '/world-rankings/javelin-throw/men', params=params)\n",
    "soup = soup(response.content, 'html.parser')\n",
    "soup"
   ]
  },
  {
   "cell_type": "code",
   "execution_count": null,
   "metadata": {},
   "outputs": [],
   "source": [
    "### Note: website was not scraped successfully. print(soup) yielded empty list."
   ]
  },
  {
   "cell_type": "code",
   "execution_count": 17,
   "metadata": {},
   "outputs": [
    {
     "ename": "AttributeError",
     "evalue": "'NoneType' object has no attribute 'find_all'",
     "output_type": "error",
     "traceback": [
      "\u001b[1;31m---------------------------------------------------------------------------\u001b[0m",
      "\u001b[1;31mAttributeError\u001b[0m                            Traceback (most recent call last)",
      "\u001b[1;32m~\\AppData\\Local\\Temp\\ipykernel_1960\\849126970.py\u001b[0m in \u001b[0;36m<module>\u001b[1;34m\u001b[0m\n\u001b[0;32m     20\u001b[0m \u001b[0mathlete_links\u001b[0m \u001b[1;33m=\u001b[0m \u001b[1;33m[\u001b[0m\u001b[1;33m]\u001b[0m\u001b[1;33m\u001b[0m\u001b[1;33m\u001b[0m\u001b[0m\n\u001b[0;32m     21\u001b[0m \u001b[0mtable\u001b[0m \u001b[1;33m=\u001b[0m \u001b[0msoup\u001b[0m\u001b[1;33m.\u001b[0m\u001b[0mfind\u001b[0m\u001b[1;33m(\u001b[0m\u001b[1;34m'table'\u001b[0m\u001b[1;33m,\u001b[0m \u001b[1;33m{\u001b[0m\u001b[1;34m'class'\u001b[0m\u001b[1;33m:\u001b[0m \u001b[1;34m'table-athletes'\u001b[0m\u001b[1;33m}\u001b[0m\u001b[1;33m)\u001b[0m\u001b[1;33m\u001b[0m\u001b[1;33m\u001b[0m\u001b[0m\n\u001b[1;32m---> 22\u001b[1;33m \u001b[1;32mfor\u001b[0m \u001b[0mrow\u001b[0m \u001b[1;32min\u001b[0m \u001b[0mtable\u001b[0m\u001b[1;33m.\u001b[0m\u001b[0mfind_all\u001b[0m\u001b[1;33m(\u001b[0m\u001b[1;34m'tr'\u001b[0m\u001b[1;33m)\u001b[0m\u001b[1;33m:\u001b[0m\u001b[1;33m\u001b[0m\u001b[1;33m\u001b[0m\u001b[0m\n\u001b[0m\u001b[0;32m     23\u001b[0m     \u001b[0mcells\u001b[0m \u001b[1;33m=\u001b[0m \u001b[0mrow\u001b[0m\u001b[1;33m.\u001b[0m\u001b[0mfind_all\u001b[0m\u001b[1;33m(\u001b[0m\u001b[1;34m'td'\u001b[0m\u001b[1;33m)\u001b[0m\u001b[1;33m\u001b[0m\u001b[1;33m\u001b[0m\u001b[0m\n\u001b[0;32m     24\u001b[0m     \u001b[1;32mif\u001b[0m \u001b[0mcells\u001b[0m\u001b[1;33m:\u001b[0m\u001b[1;33m\u001b[0m\u001b[1;33m\u001b[0m\u001b[0m\n",
      "\u001b[1;31mAttributeError\u001b[0m: 'NoneType' object has no attribute 'find_all'"
     ]
    }
   ],
   "source": [
    "# Find the table of athletes and loop through each row to extract the athlete's profile link\n",
    "athlete_links = []\n",
    "table = soup.find('table', {'class': 'table-athletes'})\n",
    "for row in table.find_all('tr'):\n",
    "    cells = row.find_all('td')\n",
    "    if cells:\n",
    "        link = cells[1].find('a')['href']\n",
    "        athlete_links.append(link)\n",
    "\n",
    "# Loop through each athlete's profile page and extract their season's best throw\n",
    "season_bests = []\n",
    "for link in athlete_links:\n",
    "    response = requests.get(base_url + link)\n",
    "    soup = BeautifulSoup(response.content, 'html.parser')\n",
    "    results_table = soup.find('table', {'class': 'table-res'})\n",
    "    season_bests.append(results_table.find_all('td', {'class': 'seasonBest'})[0].text)\n",
    "\n",
    "# Create a pandas DataFrame with the athlete's name and season's best throw\n",
    "df = pd.DataFrame({'Name': [link.split('/')[-1] for link in athlete_links], 'Season Best': season_bests})"
   ]
  },
  {
   "cell_type": "code",
   "execution_count": null,
   "metadata": {},
   "outputs": [],
   "source": [
    "df"
   ]
  },
  {
   "cell_type": "code",
   "execution_count": null,
   "metadata": {},
   "outputs": [],
   "source": []
  }
 ],
 "metadata": {
  "kernelspec": {
   "display_name": "Python 3 (ipykernel)",
   "language": "python",
   "name": "python3"
  },
  "language_info": {
   "codemirror_mode": {
    "name": "ipython",
    "version": 3
   },
   "file_extension": ".py",
   "mimetype": "text/x-python",
   "name": "python",
   "nbconvert_exporter": "python",
   "pygments_lexer": "ipython3",
   "version": "3.9.13"
  },
  "vscode": {
   "interpreter": {
    "hash": "31f2aee4e71d21fbe5cf8b01ff0e069b9275f58929596ceb00d14d90e3e16cd6"
   }
  }
 },
 "nbformat": 4,
 "nbformat_minor": 4
}
